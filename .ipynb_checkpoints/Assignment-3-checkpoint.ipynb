{
 "cells": [
  {
   "cell_type": "code",
   "execution_count": 1,
   "id": "f71722ed",
   "metadata": {},
   "outputs": [],
   "source": [
    "from os import listdir\n",
    "from numpy import asarray\n",
    "from numpy import save\n",
    "from keras.preprocessing.image import load_img\n",
    "from keras.preprocessing.image import img_to_array\n",
    "import tensorflow as tf\n",
    "from tensorflow import keras\n",
    "# plot dog photos from the dogs vs cats dataset\n",
    "from matplotlib import pyplot as plt\n",
    "from matplotlib.image import imread\n",
    "from sklearn.model_selection import KFold\n",
    "import numpy as np"
   ]
  },
  {
   "cell_type": "markdown",
   "id": "0e4d600c",
   "metadata": {},
   "source": [
    "# Q 9.1\n",
    "Please show at least one image for each class in the dogvscat1000 dataset (there are two classes: dog vs. cat). \n",
    "Randomly split the dataset into 60% training and 40% test samples. \n",
    "Train a one-hidden layer neural network with 10 hidden nodes. \n",
    "Report the classification accuracy of the classifier on the test set."
   ]
  },
  {
   "cell_type": "code",
   "execution_count": 2,
   "id": "19109c04",
   "metadata": {},
   "outputs": [],
   "source": [
    "def displayImages(foldername, dogorcat, startID, numImages):\n",
    "    # plot first few images\n",
    "    for i in range(numImages):\n",
    "        #define subplot 3x3\n",
    "        plt.subplot(330 + 1 + i)\n",
    "        # define filename\n",
    "        filename = foldername + dogorcat +'.' + str(i+startID) + '.jpg'\n",
    "        # load image pixels\n",
    "        image = imread(filename)\n",
    "        # plot raw pixel data\n",
    "        plt.imshow(image)\n",
    "        # show the figure\n",
    "plt.show()"
   ]
  },
  {
   "cell_type": "code",
   "execution_count": 3,
   "id": "95849525",
   "metadata": {},
   "outputs": [
    {
     "data": {
      "image/png": "[encoded data removed]",
      "text/plain": [
       "<Figure size 432x288 with 1 Axes>"
      ]
     },
     "metadata": {
      "needs_background": "light"
     },
     "output_type": "display_data"
    }
   ],
   "source": [
    "folder = 'dogvscat1000/'\n",
    "displayImages(folder, 'dog', 1, 1)"
   ]
  },
  {
   "cell_type": "code",
   "execution_count": 4,
   "id": "38be735e",
   "metadata": {
    "scrolled": true
   },
   "outputs": [
    {
     "data": {
      "image/png": "[encoded data removed]",
      "text/plain": [
       "<Figure size 432x288 with 1 Axes>"
      ]
     },
     "metadata": {
      "needs_background": "light"
     },
     "output_type": "display_data"
    }
   ],
   "source": [
    "displayImages(folder, 'cat', 3, 1)"
   ]
  },
  {
   "cell_type": "code",
   "execution_count": 5,
   "id": "e9ee41b7",
   "metadata": {},
   "outputs": [
    {
     "name": "stdout",
     "output_type": "stream",
     "text": [
      "(1000, 32, 32, 3) (1000,)\n"
     ]
    }
   ],
   "source": [
    "folder = 'dogvscat1000/'\n",
    "photos, labels = list(), list()\n",
    "\n",
    "# enumerate files in the directory\n",
    "for file in listdir(folder):\n",
    "    # determine class\n",
    "    output = 0.0\n",
    "    if file.startswith('cat'):\n",
    "        output = 1.0\n",
    "    # load image\n",
    "    photo = load_img(folder + file, target_size=(32, 32),color_mode=\"rgb\")  #\"rgb\" for color mode; \"grayscale\"\n",
    "    # convert to numpy array\n",
    "    photo = img_to_array(photo)\n",
    "    # store\n",
    "    photos.append(photo)\n",
    "    labels.append(output)\n",
    "    \n",
    "# convert to a numpy arrays\n",
    "photos = asarray(photos)\n",
    "labels = asarray(labels)\n",
    "\n",
    "# show the shapes of photos and lables \n",
    "print(photos.shape, labels.shape)\n",
    "\n",
    "# save the reshaped photos\n",
    "save('dogs_vs_cats_photos.npy', photos)\n",
    "save('dogs_vs_cats_labels.npy', labels)"
   ]
  },
  {
   "cell_type": "code",
   "execution_count": 6,
   "id": "f2b8fc13",
   "metadata": {},
   "outputs": [],
   "source": [
    "from sklearn.model_selection import train_test_split\n",
    "\n",
    "X_train, X_test, y_train, y_test = train_test_split(photos, labels, test_size=.4, random_state=42)"
   ]
  },
  {
   "cell_type": "code",
   "execution_count": 7,
   "id": "77d0994f",
   "metadata": {},
   "outputs": [
    {
     "name": "stdout",
     "output_type": "stream",
     "text": [
      "Model: \"sequential\"\n",
      "_________________________________________________________________\n",
      "Layer (type)                 Output Shape              Param #   \n",
      "=================================================================\n",
      "Input (Flatten)              (None, 3072)              0         \n",
      "_________________________________________________________________\n",
      "Hidden (Dense)               (None, 10)                30730     \n",
      "_________________________________________________________________\n",
      "Output (Dense)               (None, 2)                 22        \n",
      "=================================================================\n",
      "Total params: 30,752\n",
      "Trainable params: 30,752\n",
      "Non-trainable params: 0\n",
      "_________________________________________________________________\n"
     ]
    }
   ],
   "source": [
    "model = keras.Sequential([\n",
    "    keras.layers.Flatten(input_shape=(32, 32, 3),name=\"Input\"),\n",
    "    keras.layers.Dense(10, activation='relu',name=\"Hidden\"),\n",
    "    keras.layers.Dense(2, name=\"Output\"),\n",
    "])\n",
    "model.summary()"
   ]
  },
  {
   "cell_type": "code",
   "execution_count": 8,
   "id": "9143191e",
   "metadata": {},
   "outputs": [],
   "source": [
    "model.compile(optimizer='adam',\n",
    "              loss=tf.keras.losses.SparseCategoricalCrossentropy(from_logits=True),\n",
    "              metrics=['accuracy'])"
   ]
  },
  {
   "cell_type": "code",
   "execution_count": 9,
   "id": "7c9c398d",
   "metadata": {},
   "outputs": [
    {
     "name": "stdout",
     "output_type": "stream",
     "text": [
      "Epoch 1/100\n",
      "19/19 [==============================] - 1s 2ms/step - loss: 32.9453 - accuracy: 0.5200\n",
      "Epoch 2/100\n",
      "19/19 [==============================] - 0s 3ms/step - loss: 0.6930 - accuracy: 0.5133\n",
      "Epoch 3/100\n",
      "19/19 [==============================] - 0s 2ms/step - loss: 0.6930 - accuracy: 0.5133\n",
      "Epoch 4/100\n",
      "19/19 [==============================] - 0s 2ms/step - loss: 0.6930 - accuracy: 0.5133\n",
      "Epoch 5/100\n",
      "19/19 [==============================] - 0s 3ms/step - loss: 0.6929 - accuracy: 0.5133\n",
      "Epoch 6/100\n",
      "19/19 [==============================] - 0s 2ms/step - loss: 0.6929 - accuracy: 0.5133\n",
      "Epoch 7/100\n",
      "19/19 [==============================] - 0s 2ms/step - loss: 0.6929 - accuracy: 0.5133\n",
      "Epoch 8/100\n",
      "19/19 [==============================] - 0s 2ms/step - loss: 0.6929 - accuracy: 0.5133\n",
      "Epoch 9/100\n",
      "19/19 [==============================] - 0s 2ms/step - loss: 0.6929 - accuracy: 0.5133\n",
      "Epoch 10/100\n",
      "19/19 [==============================] - 0s 2ms/step - loss: 0.6929 - accuracy: 0.5133\n",
      "Epoch 11/100\n",
      "19/19 [==============================] - 0s 2ms/step - loss: 0.6929 - accuracy: 0.5133\n",
      "Epoch 12/100\n",
      "19/19 [==============================] - 0s 2ms/step - loss: 0.6929 - accuracy: 0.5133\n",
      "Epoch 13/100\n",
      "19/19 [==============================] - 0s 2ms/step - loss: 0.6928 - accuracy: 0.5133\n",
      "Epoch 14/100\n",
      "19/19 [==============================] - 0s 2ms/step - loss: 0.6929 - accuracy: 0.5133\n",
      "Epoch 15/100\n",
      "19/19 [==============================] - 0s 2ms/step - loss: 0.6928 - accuracy: 0.5133\n",
      "Epoch 16/100\n",
      "19/19 [==============================] - 0s 2ms/step - loss: 0.6929 - accuracy: 0.5133\n",
      "Epoch 17/100\n",
      "19/19 [==============================] - 0s 2ms/step - loss: 0.6929 - accuracy: 0.5133\n",
      "Epoch 18/100\n",
      "19/19 [==============================] - 0s 2ms/step - loss: 0.6928 - accuracy: 0.5133\n",
      "Epoch 19/100\n",
      "19/19 [==============================] - 0s 2ms/step - loss: 0.6928 - accuracy: 0.5133\n",
      "Epoch 20/100\n",
      "19/19 [==============================] - 0s 2ms/step - loss: 0.6929 - accuracy: 0.5133\n",
      "Epoch 21/100\n",
      "19/19 [==============================] - 0s 2ms/step - loss: 0.6929 - accuracy: 0.5133\n",
      "Epoch 22/100\n",
      "19/19 [==============================] - 0s 2ms/step - loss: 0.6929 - accuracy: 0.5133\n",
      "Epoch 23/100\n",
      "19/19 [==============================] - 0s 2ms/step - loss: 0.6928 - accuracy: 0.5133\n",
      "Epoch 24/100\n",
      "19/19 [==============================] - 0s 2ms/step - loss: 0.6928 - accuracy: 0.5133\n",
      "Epoch 25/100\n",
      "19/19 [==============================] - 0s 2ms/step - loss: 0.6928 - accuracy: 0.5133\n",
      "Epoch 26/100\n",
      "19/19 [==============================] - 0s 2ms/step - loss: 0.6928 - accuracy: 0.5133\n",
      "Epoch 27/100\n",
      "19/19 [==============================] - 0s 2ms/step - loss: 0.6928 - accuracy: 0.5133\n",
      "Epoch 28/100\n",
      "19/19 [==============================] - 0s 2ms/step - loss: 0.6928 - accuracy: 0.5133\n",
      "Epoch 29/100\n",
      "19/19 [==============================] - 0s 2ms/step - loss: 0.6928 - accuracy: 0.5133\n",
      "Epoch 30/100\n",
      "19/19 [==============================] - 0s 2ms/step - loss: 0.6928 - accuracy: 0.5133\n",
      "Epoch 31/100\n",
      "19/19 [==============================] - 0s 2ms/step - loss: 0.6928 - accuracy: 0.5133\n",
      "Epoch 32/100\n",
      "19/19 [==============================] - 0s 2ms/step - loss: 0.6928 - accuracy: 0.5133\n",
      "Epoch 33/100\n",
      "19/19 [==============================] - 0s 4ms/step - loss: 0.6928 - accuracy: 0.5133\n",
      "Epoch 34/100\n",
      "19/19 [==============================] - 0s 3ms/step - loss: 0.6928 - accuracy: 0.5133\n",
      "Epoch 35/100\n",
      "19/19 [==============================] - 0s 3ms/step - loss: 0.6928 - accuracy: 0.5133\n",
      "Epoch 36/100\n",
      "19/19 [==============================] - 0s 2ms/step - loss: 0.6929 - accuracy: 0.5133\n",
      "Epoch 37/100\n",
      "19/19 [==============================] - 0s 2ms/step - loss: 0.6929 - accuracy: 0.5133\n",
      "Epoch 38/100\n",
      "19/19 [==============================] - 0s 3ms/step - loss: 0.6928 - accuracy: 0.5133\n",
      "Epoch 39/100\n",
      "19/19 [==============================] - 0s 2ms/step - loss: 0.6928 - accuracy: 0.5133\n",
      "Epoch 40/100\n",
      "19/19 [==============================] - 0s 2ms/step - loss: 0.6928 - accuracy: 0.5133\n",
      "Epoch 41/100\n",
      "19/19 [==============================] - 0s 3ms/step - loss: 0.6928 - accuracy: 0.5133\n",
      "Epoch 42/100\n",
      "19/19 [==============================] - 0s 3ms/step - loss: 0.6928 - accuracy: 0.5133\n",
      "Epoch 43/100\n",
      "19/19 [==============================] - 0s 2ms/step - loss: 0.6928 - accuracy: 0.5133\n",
      "Epoch 44/100\n",
      "19/19 [==============================] - 0s 2ms/step - loss: 0.6928 - accuracy: 0.5133\n",
      "Epoch 45/100\n",
      "19/19 [==============================] - 0s 2ms/step - loss: 0.6928 - accuracy: 0.5133\n",
      "Epoch 46/100\n",
      "19/19 [==============================] - 0s 2ms/step - loss: 0.6928 - accuracy: 0.5133\n",
      "Epoch 47/100\n",
      "19/19 [==============================] - 0s 2ms/step - loss: 0.6928 - accuracy: 0.5133\n",
      "Epoch 48/100\n",
      "19/19 [==============================] - 0s 2ms/step - loss: 0.6929 - accuracy: 0.5133\n",
      "Epoch 49/100\n",
      "19/19 [==============================] - 0s 2ms/step - loss: 0.6928 - accuracy: 0.5133\n",
      "Epoch 50/100\n",
      "19/19 [==============================] - 0s 2ms/step - loss: 0.6928 - accuracy: 0.5133\n",
      "Epoch 51/100\n",
      "19/19 [==============================] - 0s 2ms/step - loss: 0.6928 - accuracy: 0.5133\n",
      "Epoch 52/100\n",
      "19/19 [==============================] - 0s 2ms/step - loss: 0.6928 - accuracy: 0.5133\n",
      "Epoch 53/100\n",
      "19/19 [==============================] - 0s 2ms/step - loss: 0.6928 - accuracy: 0.5133\n",
      "Epoch 54/100\n",
      "19/19 [==============================] - 0s 2ms/step - loss: 0.6929 - accuracy: 0.5133\n",
      "Epoch 55/100\n",
      "19/19 [==============================] - 0s 2ms/step - loss: 0.6928 - accuracy: 0.5133\n",
      "Epoch 56/100\n",
      "19/19 [==============================] - 0s 2ms/step - loss: 0.6928 - accuracy: 0.5133\n",
      "Epoch 57/100\n",
      "19/19 [==============================] - 0s 2ms/step - loss: 0.6929 - accuracy: 0.5133\n",
      "Epoch 58/100\n",
      "19/19 [==============================] - 0s 2ms/step - loss: 0.6928 - accuracy: 0.5133\n",
      "Epoch 59/100\n",
      "19/19 [==============================] - 0s 2ms/step - loss: 0.6928 - accuracy: 0.5133\n",
      "Epoch 60/100\n",
      "19/19 [==============================] - 0s 2ms/step - loss: 0.6928 - accuracy: 0.5133\n",
      "Epoch 61/100\n",
      "19/19 [==============================] - 0s 2ms/step - loss: 0.6929 - accuracy: 0.5133\n",
      "Epoch 62/100\n",
      "19/19 [==============================] - 0s 2ms/step - loss: 0.6928 - accuracy: 0.5133\n",
      "Epoch 63/100\n",
      "19/19 [==============================] - 0s 2ms/step - loss: 0.6928 - accuracy: 0.5133\n",
      "Epoch 64/100\n",
      "19/19 [==============================] - 0s 2ms/step - loss: 0.6928 - accuracy: 0.5133\n",
      "Epoch 65/100\n",
      "19/19 [==============================] - 0s 2ms/step - loss: 0.6928 - accuracy: 0.5133\n",
      "Epoch 66/100\n",
      "19/19 [==============================] - 0s 2ms/step - loss: 0.6928 - accuracy: 0.5133\n",
      "Epoch 67/100\n",
      "19/19 [==============================] - 0s 3ms/step - loss: 0.6928 - accuracy: 0.5133\n",
      "Epoch 68/100\n",
      "19/19 [==============================] - 0s 3ms/step - loss: 0.6928 - accuracy: 0.5133\n",
      "Epoch 69/100\n",
      "19/19 [==============================] - 0s 3ms/step - loss: 0.6928 - accuracy: 0.5133\n",
      "Epoch 70/100\n",
      "19/19 [==============================] - 0s 3ms/step - loss: 0.6928 - accuracy: 0.5133\n",
      "Epoch 71/100\n",
      "19/19 [==============================] - 0s 2ms/step - loss: 0.6928 - accuracy: 0.5133\n",
      "Epoch 72/100\n",
      "19/19 [==============================] - 0s 2ms/step - loss: 0.6928 - accuracy: 0.5133\n",
      "Epoch 73/100\n",
      "19/19 [==============================] - 0s 2ms/step - loss: 0.6928 - accuracy: 0.5133\n",
      "Epoch 74/100\n",
      "19/19 [==============================] - 0s 2ms/step - loss: 0.6929 - accuracy: 0.5133\n",
      "Epoch 75/100\n",
      "19/19 [==============================] - 0s 2ms/step - loss: 0.6929 - accuracy: 0.5133\n",
      "Epoch 76/100\n",
      "19/19 [==============================] - 0s 2ms/step - loss: 0.6928 - accuracy: 0.5133\n",
      "Epoch 77/100\n",
      "19/19 [==============================] - 0s 2ms/step - loss: 0.6928 - accuracy: 0.5133\n",
      "Epoch 78/100\n",
      "19/19 [==============================] - 0s 2ms/step - loss: 0.6928 - accuracy: 0.5133\n",
      "Epoch 79/100\n",
      "19/19 [==============================] - 0s 2ms/step - loss: 0.6928 - accuracy: 0.5133\n",
      "Epoch 80/100\n",
      "19/19 [==============================] - 0s 2ms/step - loss: 0.6928 - accuracy: 0.5133\n",
      "Epoch 81/100\n",
      "19/19 [==============================] - 0s 2ms/step - loss: 0.6928 - accuracy: 0.5133\n",
      "Epoch 82/100\n",
      "19/19 [==============================] - 0s 2ms/step - loss: 0.6928 - accuracy: 0.5133\n",
      "Epoch 83/100\n"
     ]
    },
    {
     "name": "stdout",
     "output_type": "stream",
     "text": [
      "19/19 [==============================] - 0s 2ms/step - loss: 0.6928 - accuracy: 0.5133\n",
      "Epoch 84/100\n",
      "19/19 [==============================] - 0s 2ms/step - loss: 0.6928 - accuracy: 0.5133\n",
      "Epoch 85/100\n",
      "19/19 [==============================] - 0s 2ms/step - loss: 0.6929 - accuracy: 0.5133\n",
      "Epoch 86/100\n",
      "19/19 [==============================] - 0s 2ms/step - loss: 0.6928 - accuracy: 0.5133\n",
      "Epoch 87/100\n",
      "19/19 [==============================] - 0s 2ms/step - loss: 0.6928 - accuracy: 0.5133\n",
      "Epoch 88/100\n",
      "19/19 [==============================] - 0s 2ms/step - loss: 0.6929 - accuracy: 0.5133\n",
      "Epoch 89/100\n",
      "19/19 [==============================] - 0s 2ms/step - loss: 0.6928 - accuracy: 0.5133\n",
      "Epoch 90/100\n",
      "19/19 [==============================] - 0s 2ms/step - loss: 0.6928 - accuracy: 0.5133\n",
      "Epoch 91/100\n",
      "19/19 [==============================] - 0s 2ms/step - loss: 0.6928 - accuracy: 0.5133\n",
      "Epoch 92/100\n",
      "19/19 [==============================] - 0s 2ms/step - loss: 0.6928 - accuracy: 0.5133\n",
      "Epoch 93/100\n",
      "19/19 [==============================] - 0s 2ms/step - loss: 0.6928 - accuracy: 0.5133\n",
      "Epoch 94/100\n",
      "19/19 [==============================] - 0s 2ms/step - loss: 0.6928 - accuracy: 0.5133\n",
      "Epoch 95/100\n",
      "19/19 [==============================] - 0s 2ms/step - loss: 0.6928 - accuracy: 0.5133\n",
      "Epoch 96/100\n",
      "19/19 [==============================] - 0s 2ms/step - loss: 0.6928 - accuracy: 0.5133\n",
      "Epoch 97/100\n",
      "19/19 [==============================] - 0s 2ms/step - loss: 0.6928 - accuracy: 0.5133\n",
      "Epoch 98/100\n",
      "19/19 [==============================] - 0s 2ms/step - loss: 0.6928 - accuracy: 0.5133\n",
      "Epoch 99/100\n",
      "19/19 [==============================] - 0s 2ms/step - loss: 0.6928 - accuracy: 0.5133\n",
      "Epoch 100/100\n",
      "19/19 [==============================] - 0s 2ms/step - loss: 0.6929 - accuracy: 0.5133\n"
     ]
    }
   ],
   "source": [
    "history=model.fit(X_train, y_train, epochs=100,verbose=1)"
   ]
  },
  {
   "cell_type": "code",
   "execution_count": 10,
   "id": "80146f71",
   "metadata": {},
   "outputs": [
    {
     "name": "stdout",
     "output_type": "stream",
     "text": [
      "13/13 - 0s - loss: 0.6944 - accuracy: 0.4800\n",
      "\n",
      "Test accuracy: 0.47999998927116394\n"
     ]
    }
   ],
   "source": [
    "test_loss, test_acc = model.evaluate(X_test,  y_test, verbose=2)\n",
    "\n",
    "print('\\nTest accuracy:', test_acc)"
   ]
  },
  {
   "cell_type": "markdown",
   "id": "e0dc1763",
   "metadata": {},
   "source": [
    "# Q9.2\n",
    "Please repeat the training vs. test split 10 times and use average accuracy to compare the performance of different \n",
    "neural network architectures, \n",
    "including (1) one-hidden layer NN with 10 hidden nodes, \n",
    "(2) one-hidden layer NN with 50 hidden nodes, \n",
    "(3) one-hidden layer NN with 500 hidden nodes, and \n",
    "(4) two-hidden layer NN with 50 hidden nodes (1st layer) \n",
    "and 10 hidden nodes (2n layer).  \n",
    "\n",
    "Please report and compare the accuracy of the four neural networks, \n",
    "\n",
    "and conclude which classifier has the best performance [1 pt].\n"
   ]
  },
  {
   "cell_type": "markdown",
   "id": "05fb6998",
   "metadata": {},
   "source": [
    "# (1) one-hidden layer NN with 10 hidden nodes"
   ]
  },
  {
   "cell_type": "code",
   "execution_count": 11,
   "id": "e83bf2a4",
   "metadata": {},
   "outputs": [
    {
     "name": "stdout",
     "output_type": "stream",
     "text": [
      "Model: \"sequential_1\"\n",
      "_________________________________________________________________\n",
      "Layer (type)                 Output Shape              Param #   \n",
      "=================================================================\n",
      "Input (Flatten)              (None, 3072)              0         \n",
      "_________________________________________________________________\n",
      "1st-Hidden (Dense)           (None, 10)                30730     \n",
      "_________________________________________________________________\n",
      "Output (Dense)               (None, 2)                 22        \n",
      "=================================================================\n",
      "Total params: 30,752\n",
      "Trainable params: 30,752\n",
      "Non-trainable params: 0\n",
      "_________________________________________________________________\n",
      "4/4 - 0s - loss: 0.6933 - accuracy: 0.4800\n",
      "Fold accuracy:  0.47999998927116394\n",
      "4/4 - 0s - loss: 0.6936 - accuracy: 0.4800\n",
      "Fold accuracy:  0.47999998927116394\n",
      "4/4 - 0s - loss: 0.6935 - accuracy: 0.4600\n",
      "Fold accuracy:  0.46000000834465027\n",
      "4/4 - 0s - loss: 0.6971 - accuracy: 0.4200\n",
      "Fold accuracy:  0.41999998688697815\n",
      "4/4 - 0s - loss: 0.6936 - accuracy: 0.4800\n",
      "Fold accuracy:  0.47999998927116394\n",
      "4/4 - 0s - loss: 0.6937 - accuracy: 0.4600\n",
      "Fold accuracy:  0.46000000834465027\n",
      "4/4 - 0s - loss: 0.6941 - accuracy: 0.4500\n",
      "Fold accuracy:  0.44999998807907104\n",
      "4/4 - 0s - loss: 0.6980 - accuracy: 0.4000\n",
      "Fold accuracy:  0.4000000059604645\n",
      "4/4 - 0s - loss: 0.6944 - accuracy: 0.4500\n",
      "Fold accuracy:  0.44999998807907104\n",
      "4/4 - 0s - loss: 0.6951 - accuracy: 0.4400\n",
      "Fold accuracy:  0.4399999976158142\n",
      "Accuracy [[0.47999998927116394], [0.47999998927116394], [0.46000000834465027], [0.41999998688697815], [0.47999998927116394], [0.46000000834465027], [0.44999998807907104], [0.4000000059604645], [0.44999998807907104], [0.4399999976158142]]\n",
      "Avg Accuracy 0.4519999951124191\n"
     ]
    }
   ],
   "source": [
    "kf1 =  KFold(n_splits=10, shuffle=True, random_state=42)\n",
    "\n",
    "model1 = keras.Sequential([\n",
    "    keras.layers.Flatten(input_shape=(32, 32, 3),name=\"Input\"),\n",
    "    keras.layers.Dense(10, activation='relu',name=\"1st-Hidden\"),\n",
    "    keras.layers.Dense(2, name=\"Output\"),\n",
    "])\n",
    "model1.summary()\n",
    "\n",
    "model1.compile(optimizer='adam',\n",
    "              loss=tf.keras.losses.SparseCategoricalCrossentropy(from_logits=True),\n",
    "              metrics=['accuracy'])\n",
    "\n",
    "model_accuracy1 = []\n",
    "for train_index1 , test_index1 in kf1.split(photos):\n",
    "    X_train1 , X_test1 = photos[train_index1,:], photos[test_index1,:]\n",
    "    y_train1 , y_test1 = labels[train_index1], labels[test_index1]\n",
    "    \n",
    "    history1 = model1.fit(X_train1, y_train1, epochs=100, verbose=0)\n",
    "    loss1, acc1 = model1.evaluate(X_test1,  y_test1, verbose=2)\n",
    "    \n",
    "    print('Fold accuracy: ', acc1)\n",
    "    \n",
    "    model_accuracy1.append([acc1])\n",
    "\n",
    "\n",
    "print('Accuracy', model_accuracy1)\n",
    "print('Avg Accuracy', np.average(model_accuracy1))"
   ]
  },
  {
   "cell_type": "markdown",
   "id": "9c421a3d",
   "metadata": {},
   "source": [
    "# (2) one-hidden layer NN with 50 hidden nodes"
   ]
  },
  {
   "cell_type": "code",
   "execution_count": 12,
   "id": "4f359f99",
   "metadata": {},
   "outputs": [
    {
     "name": "stdout",
     "output_type": "stream",
     "text": [
      "Model: \"sequential_2\"\n",
      "_________________________________________________________________\n",
      "Layer (type)                 Output Shape              Param #   \n",
      "=================================================================\n",
      "Input (Flatten)              (None, 3072)              0         \n",
      "_________________________________________________________________\n",
      "1st-Hidden (Dense)           (None, 50)                153650    \n",
      "_________________________________________________________________\n",
      "Output (Dense)               (None, 2)                 102       \n",
      "=================================================================\n",
      "Total params: 153,752\n",
      "Trainable params: 153,752\n",
      "Non-trainable params: 0\n",
      "_________________________________________________________________\n",
      "4/4 - 0s - loss: 0.6935 - accuracy: 0.4800\n",
      "Fold accuracy:  0.47999998927116394\n",
      "4/4 - 0s - loss: 0.6936 - accuracy: 0.4800\n",
      "Fold accuracy:  0.47999998927116394\n",
      "4/4 - 0s - loss: 0.6938 - accuracy: 0.4600\n",
      "Fold accuracy:  0.46000000834465027\n",
      "4/4 - 0s - loss: 0.6964 - accuracy: 0.4200\n",
      "Fold accuracy:  0.41999998688697815\n",
      "4/4 - 0s - loss: 0.6932 - accuracy: 0.4800\n",
      "Fold accuracy:  0.47999998927116394\n",
      "4/4 - 0s - loss: 0.6938 - accuracy: 0.4600\n",
      "Fold accuracy:  0.46000000834465027\n",
      "4/4 - 0s - loss: 0.6938 - accuracy: 0.4500\n",
      "Fold accuracy:  0.44999998807907104\n",
      "4/4 - 0s - loss: 0.6979 - accuracy: 0.4000\n",
      "Fold accuracy:  0.4000000059604645\n",
      "4/4 - 0s - loss: 0.6937 - accuracy: 0.4500\n",
      "Fold accuracy:  0.44999998807907104\n",
      "4/4 - 0s - loss: 0.6946 - accuracy: 0.4400\n",
      "Fold accuracy:  0.4399999976158142\n",
      "Accuracy [[0.47999998927116394], [0.47999998927116394], [0.46000000834465027], [0.41999998688697815], [0.47999998927116394], [0.46000000834465027], [0.44999998807907104], [0.4000000059604645], [0.44999998807907104], [0.4399999976158142]]\n",
      "Avg Accuracy 0.4519999951124191\n"
     ]
    }
   ],
   "source": [
    "kf2 = KFold(n_splits=10, shuffle=True, random_state=42)\n",
    "\n",
    "model2 = keras.Sequential([\n",
    "    keras.layers.Flatten(input_shape=(32, 32, 3),name=\"Input\"),\n",
    "    keras.layers.Dense(50, activation='relu',name=\"1st-Hidden\"),\n",
    "    keras.layers.Dense(2, name=\"Output\"),\n",
    "])\n",
    "model2.summary()\n",
    "\n",
    "model2.compile(optimizer='adam',\n",
    "              loss=tf.keras.losses.SparseCategoricalCrossentropy(from_logits=True),\n",
    "              metrics=['accuracy'])\n",
    "\n",
    "model_accuracy2 = []\n",
    "for train_index2 , test_index2 in kf2.split(photos):\n",
    "    X_train2 , X_test2 = photos[train_index2,:], photos[test_index2,:]\n",
    "    y_train2 , y_test2 = labels[train_index2], labels[test_index2]\n",
    "    \n",
    "    history2 = model2.fit(X_train2, y_train2, epochs=100, verbose=0)\n",
    "    loss2, acc2 = model2.evaluate(X_test2,  y_test2, verbose=2)\n",
    "\n",
    "    print('Fold accuracy: ', acc2)\n",
    "    \n",
    "    model_accuracy2.append([acc2])\n",
    "\n",
    "\n",
    "print('Accuracy', model_accuracy2)\n",
    "print('Avg Accuracy', np.average(model_accuracy2))"
   ]
  },
  {
   "cell_type": "markdown",
   "id": "89058401",
   "metadata": {},
   "source": [
    "# (3) one-hidden layer NN with 500 hidden nodes"
   ]
  },
  {
   "cell_type": "code",
   "execution_count": 13,
   "id": "9d99e284",
   "metadata": {},
   "outputs": [
    {
     "name": "stdout",
     "output_type": "stream",
     "text": [
      "Model: \"sequential_3\"\n",
      "_________________________________________________________________\n",
      "Layer (type)                 Output Shape              Param #   \n",
      "=================================================================\n",
      "Input (Flatten)              (None, 3072)              0         \n",
      "_________________________________________________________________\n",
      "1st-Hidden (Dense)           (None, 500)               1536500   \n",
      "_________________________________________________________________\n",
      "Output (Dense)               (None, 2)                 1002      \n",
      "=================================================================\n",
      "Total params: 1,537,502\n",
      "Trainable params: 1,537,502\n",
      "Non-trainable params: 0\n",
      "_________________________________________________________________\n",
      "4/4 - 0s - loss: 3.1640 - accuracy: 0.5400\n",
      "Fold accuracy:  0.5400000214576721\n",
      "4/4 - 0s - loss: 0.6935 - accuracy: 0.4700\n",
      "Fold accuracy:  0.4699999988079071\n",
      "4/4 - 0s - loss: 0.6940 - accuracy: 0.4600\n",
      "Fold accuracy:  0.46000000834465027\n",
      "4/4 - 0s - loss: 0.6967 - accuracy: 0.4200\n",
      "Fold accuracy:  0.41999998688697815\n",
      "4/4 - 0s - loss: 0.6933 - accuracy: 0.4800\n",
      "Fold accuracy:  0.47999998927116394\n",
      "4/4 - 0s - loss: 0.6942 - accuracy: 0.4600\n",
      "Fold accuracy:  0.46000000834465027\n",
      "4/4 - 0s - loss: 0.6946 - accuracy: 0.4500\n",
      "Fold accuracy:  0.44999998807907104\n",
      "4/4 - 0s - loss: 0.6985 - accuracy: 0.4000\n",
      "Fold accuracy:  0.4000000059604645\n",
      "4/4 - 0s - loss: 0.6945 - accuracy: 0.4500\n",
      "Fold accuracy:  0.44999998807907104\n",
      "4/4 - 0s - loss: 0.6952 - accuracy: 0.4400\n",
      "Fold accuracy:  0.4399999976158142\n",
      "Accuracy [[0.5400000214576721], [0.4699999988079071], [0.46000000834465027], [0.41999998688697815], [0.47999998927116394], [0.46000000834465027], [0.44999998807907104], [0.4000000059604645], [0.44999998807907104], [0.4399999976158142]]\n",
      "Avg Accuracy 0.4569999992847443\n"
     ]
    }
   ],
   "source": [
    "kf3 = KFold(n_splits=10, shuffle=True, random_state=42)\n",
    "\n",
    "model3 = keras.Sequential([\n",
    "    keras.layers.Flatten(input_shape=(32, 32, 3),name=\"Input\"),\n",
    "    keras.layers.Dense(500, activation='relu',name=\"1st-Hidden\"),\n",
    "    keras.layers.Dense(2, name=\"Output\"),\n",
    "])\n",
    "model3.summary()\n",
    "\n",
    "model3.compile(optimizer='adam',\n",
    "              loss=tf.keras.losses.SparseCategoricalCrossentropy(from_logits=True),\n",
    "              metrics=['accuracy'])\n",
    "\n",
    "model_accuracy3 = []\n",
    "for train_index3 , test_index3 in kf3.split(photos):\n",
    "    X_train3 , X_test3 = photos[train_index3,:], photos[test_index3,:]\n",
    "    y_train3 , y_test3 = labels[train_index3], labels[test_index3]\n",
    "    \n",
    "    history3 = model3.fit(X_train3, y_train3, epochs=100, verbose=0)\n",
    "    loss3, acc3 = model3.evaluate(X_test3,  y_test3, verbose=2)\n",
    "\n",
    "    print('Fold accuracy: ', acc3)\n",
    "    \n",
    "    model_accuracy3.append([acc3])\n",
    "\n",
    "\n",
    "print('Accuracy', model_accuracy3)\n",
    "print('Avg Accuracy', np.average(model_accuracy3))"
   ]
  },
  {
   "cell_type": "markdown",
   "id": "a64a3c3c",
   "metadata": {},
   "source": [
    "# (4) two-hidden layer NN with 50 hidden nodes (1st layer) and 10 hidden nodes (2n layer)."
   ]
  },
  {
   "cell_type": "code",
   "execution_count": 14,
   "id": "a9283a33",
   "metadata": {},
   "outputs": [
    {
     "name": "stdout",
     "output_type": "stream",
     "text": [
      "Model: \"sequential_4\"\n",
      "_________________________________________________________________\n",
      "Layer (type)                 Output Shape              Param #   \n",
      "=================================================================\n",
      "Input (Flatten)              (None, 3072)              0         \n",
      "_________________________________________________________________\n",
      "1-Hidden (Dense)             (None, 50)                153650    \n",
      "_________________________________________________________________\n",
      "2-Hidden (Dense)             (None, 10)                510       \n",
      "_________________________________________________________________\n",
      "Output (Dense)               (None, 2)                 22        \n",
      "=================================================================\n",
      "Total params: 154,182\n",
      "Trainable params: 154,182\n",
      "Non-trainable params: 0\n",
      "_________________________________________________________________\n",
      "4/4 - 0s - loss: 0.6932 - accuracy: 0.4800\n",
      "Fold accuracy:  0.47999998927116394\n",
      "4/4 - 0s - loss: 0.6932 - accuracy: 0.4800\n",
      "Fold accuracy:  0.47999998927116394\n",
      "4/4 - 0s - loss: 0.6935 - accuracy: 0.4600\n",
      "Fold accuracy:  0.46000000834465027\n",
      "4/4 - 0s - loss: 0.6946 - accuracy: 0.4200\n",
      "Fold accuracy:  0.41999998688697815\n",
      "4/4 - 0s - loss: 0.6935 - accuracy: 0.4800\n",
      "Fold accuracy:  0.47999998927116394\n",
      "4/4 - 0s - loss: 0.6940 - accuracy: 0.4600\n",
      "Fold accuracy:  0.46000000834465027\n",
      "4/4 - 0s - loss: 0.6940 - accuracy: 0.4500\n",
      "Fold accuracy:  0.44999998807907104\n",
      "4/4 - 0s - loss: 0.6912 - accuracy: 0.4100\n",
      "Fold accuracy:  0.4099999964237213\n",
      "4/4 - 0s - loss: 0.6945 - accuracy: 0.4500\n",
      "Fold accuracy:  0.44999998807907104\n",
      "4/4 - 0s - loss: 0.6955 - accuracy: 0.4400\n",
      "Fold accuracy:  0.4399999976158142\n",
      "Accuracy [[0.47999998927116394], [0.47999998927116394], [0.46000000834465027], [0.41999998688697815], [0.47999998927116394], [0.46000000834465027], [0.44999998807907104], [0.4099999964237213], [0.44999998807907104], [0.4399999976158142]]\n",
      "Avg Accuracy 0.4529999941587448\n"
     ]
    }
   ],
   "source": [
    "kf4 = KFold(n_splits=10, shuffle=True, random_state=42)\n",
    "\n",
    "model4 = keras.Sequential([\n",
    "    keras.layers.Flatten(input_shape=(32, 32, 3),name=\"Input\"),\n",
    "    keras.layers.Dense(50, activation='relu',name=\"1-Hidden\"),\n",
    "    keras.layers.Dense(10, activation='relu',name=\"2-Hidden\"),\n",
    "    keras.layers.Dense(2, name=\"Output\"),\n",
    "])\n",
    "model4.summary()\n",
    "\n",
    "model4.compile(optimizer='adam',\n",
    "              loss=tf.keras.losses.SparseCategoricalCrossentropy(from_logits=True),\n",
    "              metrics=['accuracy'])\n",
    "\n",
    "model_accuracy4 = []\n",
    "for train_index4 , test_index4 in kf4.split(photos):\n",
    "    X_train4 , X_test4 = photos[train_index4,:], photos[test_index4,:]\n",
    "    y_train4 , y_test4 = labels[train_index4], labels[test_index4]\n",
    "    \n",
    "    history4 = model4.fit(X_train4, y_train4, epochs=100, verbose=0)\n",
    "    loss4, acc4 = model4.evaluate(X_test4,  y_test4, verbose=2)\n",
    "\n",
    "    print('Fold accuracy: ', acc4)\n",
    "    \n",
    "    model_accuracy4.append([acc4])\n",
    "\n",
    "\n",
    "print('Accuracy', model_accuracy4)\n",
    "print('Avg Accuracy', np.average(model_accuracy4))"
   ]
  },
  {
   "cell_type": "code",
   "execution_count": 15,
   "id": "afa2c9f1",
   "metadata": {},
   "outputs": [
    {
     "name": "stdout",
     "output_type": "stream",
     "text": [
      "Accuracy 1 0.4519999951124191\n",
      "Accuracy 2 0.4519999951124191\n",
      "Accuracy 3 0.4569999992847443\n",
      "Accuracy 4 0.4529999941587448\n"
     ]
    }
   ],
   "source": [
    "print('Accuracy 1', np.average(model_accuracy1))\n",
    "print('Accuracy 2', np.average(model_accuracy2))\n",
    "print('Accuracy 3', np.average(model_accuracy3))\n",
    "print('Accuracy 4', np.average(model_accuracy4))"
   ]
  },
  {
   "cell_type": "markdown",
   "id": "68a3f39e",
   "metadata": {},
   "source": [
    "# Model comparison\n",
    "\n",
    "(1) one-hidden layer NN with 10 hidden nodes\n",
    "(2) one-hidden layer NN with 50 hidden nodes\n",
    "(3) one-hidden layer NN with 500 hidden nodes \n",
    "(4) two-hidden layer NN with 50 hidden nodes (1st layer) and 10 hidden nodes (2n layer)\n",
    "\n",
    "Adding additional hidden layer does not increased the accuracy of the model.\n",
    "It was observed that model 3 with one hidden layers found to be most accurate."
   ]
  }
 ],
 "metadata": {
  "kernelspec": {
   "display_name": "Python 3",
   "language": "python",
   "name": "python3"
  },
  "language_info": {
   "codemirror_mode": {
    "name": "ipython",
    "version": 3
   },
   "file_extension": ".py",
   "mimetype": "text/x-python",
   "name": "python",
   "nbconvert_exporter": "python",
   "pygments_lexer": "ipython3",
   "version": "3.8.6"
  }
 },
 "nbformat": 4,
 "nbformat_minor": 5
}
