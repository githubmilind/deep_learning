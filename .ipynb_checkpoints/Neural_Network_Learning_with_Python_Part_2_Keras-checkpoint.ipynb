{
 "cells": [
  {
   "cell_type": "markdown",
   "metadata": {
    "id": "jntKuFpjMQD5"
   },
   "source": [
    "# Designing one-class classification problem, one-layer network with Keras - Example 1\n",
    "\n",
    "In this example, we are using a sigmoid activation at the last layer, binary cross-entropy as the loss, stochastic gradient descent as the optimizer, and classes 0 and 1."
   ]
  },
  {
   "cell_type": "code",
   "execution_count": null,
   "metadata": {
    "id": "l13sv8mJTX73"
   },
   "outputs": [],
   "source": [
    "import numpy as np\n",
    "import matplotlib.pyplot as plt\n",
    "def plot_fun(features,labels,classes):\n",
    "  plt.plot(features[labels[:]==classes[0],0], features[labels[:]==classes[0],1], 'rs', \n",
    "         features[labels[:]==classes[1],0], features[labels[:]==classes[1],1], 'g^',markersize=15)\n",
    "  #plt.axis([-2,2,-2,2])\n",
    "  plt.xlabel('x: feature 1')\n",
    "  plt.ylabel('y: feature 2')\n",
    "  plt.legend(['Class'+str(classes[0]), 'Class'+str(classes[1])])\n",
    "  plt.show()\n",
    "\n",
    "def plot_fun_thr(features,labels,thre_parms,classes):\n",
    "  #ploting the data points\n",
    "  plt.plot(features[labels[:]==classes[0],0], features[labels[:]==classes[0],1], 'rs',\n",
    "           features[labels[:]==classes[1],0], features[labels[:]==classes[1],1], 'g^', \n",
    "           markersize=15)\n",
    "  #plt.axis([-1,2,-1,2])\n",
    "  #ploting the seperating line\n",
    "  x1 = np.linspace(-2,2,50)\n",
    "  x2 = -(thre_parms[0]*x1+thre_parms[2])/thre_parms[1] \n",
    "                      #a X1 + b X2 + c=0 --> x2 = -(a X1 + c)/b\n",
    "  plt.plot(x1, x2, '-r')\n",
    "  plt.xlabel('x: feature 1')\n",
    "  plt.ylabel('y: feature 2')\n",
    "  plt.legend(['Class'+str(classes[0]), 'Class'+str(classes[1])])\n",
    "  #plt.pause(0.5)\n",
    "  #plt.show()\n",
    "\n",
    "def plot_curve(accuracy_train, loss_train):\n",
    "  epochs=np.arange(loss_train.shape[0])\n",
    "  plt.subplot(1,2,1)\n",
    "  plt.plot(epochs,accuracy_train)\n",
    "  #plt.axis([-1,2,-1,2])\n",
    "  plt.xlabel('Epoch#')\n",
    "  plt.ylabel('Accuracy')\n",
    "  plt.title('Training Accuracy')\n",
    "\n",
    "  plt.subplot(1,2,2)\n",
    "  plt.plot(epochs,loss_train)\n",
    "  plt.xlabel('Epoch#')\n",
    "  plt.ylabel('Binary crossentropy loss')\n",
    "  plt.title('Training loss')\n",
    "\n",
    "  plt.show()"
   ]
  },
  {
   "cell_type": "code",
   "execution_count": null,
   "metadata": {
    "colab": {
     "base_uri": "https://localhost:8080/",
     "height": 1000
    },
    "executionInfo": {
     "elapsed": 2279,
     "status": "ok",
     "timestamp": 1634658522291,
     "user": {
      "displayName": "Murtadha Hssayeni",
      "photoUrl": "https://lh3.googleusercontent.com/a-/AOh14Gjl8zOn-q4_CorFCcIx1B1NDGl5E0qOcTENwoIy=s64",
      "userId": "16797547346214113523"
     },
     "user_tz": 240
    },
    "id": "yYlLl2KeMcgR",
    "outputId": "f8e1bb24-29ab-4132-d0d6-f9021a98ce6a"
   },
   "outputs": [
    {
     "name": "stdout",
     "output_type": "stream",
     "text": [
      "Model: \"sequential_2\"\n",
      "_________________________________________________________________\n",
      "Layer (type)                 Output Shape              Param #   \n",
      "=================================================================\n",
      "dense_2 (Dense)              (None, 1)                 3         \n",
      "=================================================================\n",
      "Total params: 3\n",
      "Trainable params: 3\n",
      "Non-trainable params: 0\n",
      "_________________________________________________________________\n"
     ]
    },
    {
     "name": "stderr",
     "output_type": "stream",
     "text": [
      "/usr/local/lib/python3.7/dist-packages/keras/optimizer_v2/optimizer_v2.py:356: UserWarning: The `lr` argument is deprecated, use `learning_rate` instead.\n",
      "  \"The `lr` argument is deprecated, use `learning_rate` instead.\")\n"
     ]
    },
    {
     "data": {
      "image/png": "[encoded data removed]",
      "text/plain": [
       "<Figure size 432x288 with 1 Axes>"
      ]
     },
     "metadata": {
      "needs_background": "light"
     },
     "output_type": "display_data"
    },
    {
     "name": "stdout",
     "output_type": "stream",
     "text": [
      "Epoch 1/50\n",
      "3/3 [==============================] - 1s 3ms/step - loss: 1.0396 - accuracy: 0.1000\n",
      "Epoch 2/50\n",
      "3/3 [==============================] - 0s 4ms/step - loss: 0.3400 - accuracy: 0.9000\n",
      "Epoch 3/50\n",
      "3/3 [==============================] - 0s 3ms/step - loss: 0.2440 - accuracy: 0.9000\n",
      "Epoch 4/50\n",
      "3/3 [==============================] - 0s 4ms/step - loss: 0.2056 - accuracy: 0.9000\n",
      "Epoch 5/50\n",
      "3/3 [==============================] - 0s 4ms/step - loss: 0.1666 - accuracy: 0.9000\n",
      "Epoch 6/50\n",
      "3/3 [==============================] - 0s 6ms/step - loss: 0.1538 - accuracy: 0.9000\n",
      "Epoch 7/50\n",
      "3/3 [==============================] - 0s 4ms/step - loss: 0.1375 - accuracy: 1.0000\n",
      "Epoch 8/50\n",
      "3/3 [==============================] - 0s 4ms/step - loss: 0.1255 - accuracy: 1.0000\n",
      "Epoch 9/50\n",
      "3/3 [==============================] - 0s 4ms/step - loss: 0.1226 - accuracy: 0.9000\n",
      "Epoch 10/50\n",
      "3/3 [==============================] - 0s 3ms/step - loss: 0.1171 - accuracy: 0.9000\n",
      "Epoch 11/50\n",
      "3/3 [==============================] - 0s 4ms/step - loss: 0.1071 - accuracy: 1.0000\n",
      "Epoch 12/50\n",
      "3/3 [==============================] - 0s 4ms/step - loss: 0.1027 - accuracy: 1.0000\n",
      "Epoch 13/50\n",
      "3/3 [==============================] - 0s 4ms/step - loss: 0.0986 - accuracy: 1.0000\n",
      "Epoch 14/50\n",
      "3/3 [==============================] - 0s 6ms/step - loss: 0.0984 - accuracy: 1.0000\n",
      "Epoch 15/50\n",
      "3/3 [==============================] - 0s 5ms/step - loss: 0.0944 - accuracy: 1.0000\n",
      "Epoch 16/50\n",
      "3/3 [==============================] - 0s 5ms/step - loss: 0.0895 - accuracy: 1.0000\n",
      "Epoch 17/50\n",
      "3/3 [==============================] - 0s 4ms/step - loss: 0.0887 - accuracy: 1.0000\n",
      "Epoch 18/50\n",
      "3/3 [==============================] - 0s 3ms/step - loss: 0.0875 - accuracy: 1.0000\n",
      "Epoch 19/50\n",
      "3/3 [==============================] - 0s 5ms/step - loss: 0.0855 - accuracy: 1.0000\n",
      "Epoch 20/50\n",
      "3/3 [==============================] - 0s 6ms/step - loss: 0.0783 - accuracy: 1.0000\n",
      "Epoch 21/50\n",
      "3/3 [==============================] - 0s 4ms/step - loss: 0.0798 - accuracy: 1.0000\n",
      "Epoch 22/50\n",
      "3/3 [==============================] - 0s 4ms/step - loss: 0.0751 - accuracy: 1.0000\n",
      "Epoch 23/50\n",
      "3/3 [==============================] - 0s 6ms/step - loss: 0.0764 - accuracy: 1.0000\n",
      "Epoch 24/50\n",
      "3/3 [==============================] - 0s 4ms/step - loss: 0.0707 - accuracy: 1.0000\n",
      "Epoch 25/50\n",
      "3/3 [==============================] - 0s 9ms/step - loss: 0.0694 - accuracy: 1.0000\n",
      "Epoch 26/50\n",
      "3/3 [==============================] - 0s 4ms/step - loss: 0.0692 - accuracy: 1.0000\n",
      "Epoch 27/50\n",
      "3/3 [==============================] - 0s 5ms/step - loss: 0.0687 - accuracy: 1.0000\n",
      "Epoch 28/50\n",
      "3/3 [==============================] - 0s 4ms/step - loss: 0.0661 - accuracy: 1.0000\n",
      "Epoch 29/50\n",
      "3/3 [==============================] - 0s 3ms/step - loss: 0.0667 - accuracy: 1.0000\n",
      "Epoch 30/50\n",
      "3/3 [==============================] - 0s 5ms/step - loss: 0.0622 - accuracy: 1.0000\n",
      "Epoch 31/50\n",
      "3/3 [==============================] - 0s 4ms/step - loss: 0.0611 - accuracy: 1.0000\n",
      "Epoch 32/50\n",
      "3/3 [==============================] - 0s 6ms/step - loss: 0.0595 - accuracy: 1.0000\n",
      "Epoch 33/50\n",
      "3/3 [==============================] - 0s 3ms/step - loss: 0.0601 - accuracy: 1.0000\n",
      "Epoch 34/50\n",
      "3/3 [==============================] - 0s 4ms/step - loss: 0.0578 - accuracy: 1.0000\n",
      "Epoch 35/50\n",
      "3/3 [==============================] - 0s 4ms/step - loss: 0.0578 - accuracy: 1.0000\n",
      "Epoch 36/50\n",
      "3/3 [==============================] - 0s 4ms/step - loss: 0.0566 - accuracy: 1.0000\n",
      "Epoch 37/50\n",
      "3/3 [==============================] - 0s 4ms/step - loss: 0.0543 - accuracy: 1.0000\n",
      "Epoch 38/50\n",
      "3/3 [==============================] - 0s 4ms/step - loss: 0.0522 - accuracy: 1.0000\n",
      "Epoch 39/50\n",
      "3/3 [==============================] - 0s 3ms/step - loss: 0.0514 - accuracy: 1.0000\n",
      "Epoch 40/50\n",
      "3/3 [==============================] - 0s 4ms/step - loss: 0.0524 - accuracy: 1.0000\n",
      "Epoch 41/50\n",
      "3/3 [==============================] - 0s 4ms/step - loss: 0.0509 - accuracy: 1.0000\n",
      "Epoch 42/50\n",
      "3/3 [==============================] - 0s 4ms/step - loss: 0.0504 - accuracy: 1.0000\n",
      "Epoch 43/50\n",
      "3/3 [==============================] - 0s 4ms/step - loss: 0.0484 - accuracy: 1.0000\n",
      "Epoch 44/50\n",
      "3/3 [==============================] - 0s 3ms/step - loss: 0.0478 - accuracy: 1.0000\n",
      "Epoch 45/50\n",
      "3/3 [==============================] - 0s 4ms/step - loss: 0.0489 - accuracy: 1.0000\n",
      "Epoch 46/50\n",
      "3/3 [==============================] - 0s 3ms/step - loss: 0.0472 - accuracy: 1.0000\n",
      "Epoch 47/50\n",
      "3/3 [==============================] - 0s 5ms/step - loss: 0.0472 - accuracy: 1.0000\n",
      "Epoch 48/50\n",
      "3/3 [==============================] - 0s 3ms/step - loss: 0.0446 - accuracy: 1.0000\n",
      "Epoch 49/50\n",
      "3/3 [==============================] - 0s 5ms/step - loss: 0.0449 - accuracy: 1.0000\n",
      "Epoch 50/50\n",
      "3/3 [==============================] - 0s 4ms/step - loss: 0.0434 - accuracy: 1.0000\n"
     ]
    }
   ],
   "source": [
    "from tensorflow.keras.models import Sequential\n",
    "from tensorflow.keras.layers import Dense\n",
    "#defining the model\n",
    "model_a=Sequential()\n",
    "model_a.add(Dense(input_dim=2, units=1, activation='sigmoid'))\n",
    "model_a.summary()\n",
    "\n",
    "from tensorflow.keras.optimizers import SGD\n",
    "model_a.compile(loss='binary_crossentropy',\n",
    "              optimizer=SGD(lr=0.9), \n",
    "              metrics=['accuracy'])\n",
    "\n",
    "features=np.array([[1,1], [1,0], [0,1], [-1,-1], [0.5,3], \n",
    "                   [0.7,2], [-1,0], [-1,1], [2,0], [-2,-1]])\n",
    "labels=np.array([1,1,0,0,1,1,0,0,1,0])\n",
    "classes=[0,1]\n",
    "\n",
    "plot_fun(features,labels,classes)\n",
    "\n",
    "history=model_a.fit(features, labels,\n",
    "          batch_size=4,\n",
    "          epochs=50,\n",
    "          verbose=1) \n",
    "\n",
    "# validation_data=(x_val, y_val)\n",
    "\n",
    "#Normalization\n",
    "#features = (features-np.mean(features,axis=0))/np.std(features,axis=0)"
   ]
  },
  {
   "cell_type": "code",
   "execution_count": null,
   "metadata": {
    "colab": {
     "base_uri": "https://localhost:8080/",
     "height": 297
    },
    "executionInfo": {
     "elapsed": 947,
     "status": "ok",
     "timestamp": 1634658528004,
     "user": {
      "displayName": "Murtadha Hssayeni",
      "photoUrl": "https://lh3.googleusercontent.com/a-/AOh14Gjl8zOn-q4_CorFCcIx1B1NDGl5E0qOcTENwoIy=s64",
      "userId": "16797547346214113523"
     },
     "user_tz": 240
    },
    "id": "AptTt1k2Mh2S",
    "outputId": "8764d09d-3486-4a6b-9364-78a2333bab34"
   },
   "outputs": [
    {
     "name": "stdout",
     "output_type": "stream",
     "text": [
      "[ 5.059483   0.8390311 -2.0057955]\n"
     ]
    },
    {
     "data": {
      "image/png": "[encoded data removed]",
      "text/plain": [
       "<Figure size 432x288 with 1 Axes>"
      ]
     },
     "metadata": {
      "needs_background": "light"
     },
     "output_type": "display_data"
    }
   ],
   "source": [
    "weights=model_a.layers[0].get_weights() \n",
    "thre_parms=np.array(weights[0])#This first item is the weights for the inputs \n",
    "thre_parms=np.append(thre_parms, weights[1]) #second item the weights for the bias\n",
    "print(thre_parms)\n",
    "plot_fun_thr(features,labels,thre_parms,classes)"
   ]
  },
  {
   "cell_type": "code",
   "execution_count": null,
   "metadata": {
    "colab": {
     "base_uri": "https://localhost:8080/",
     "height": 350
    },
    "executionInfo": {
     "elapsed": 378,
     "status": "ok",
     "timestamp": 1634658710172,
     "user": {
      "displayName": "Murtadha Hssayeni",
      "photoUrl": "https://lh3.googleusercontent.com/a-/AOh14Gjl8zOn-q4_CorFCcIx1B1NDGl5E0qOcTENwoIy=s64",
      "userId": "16797547346214113523"
     },
     "user_tz": 240
    },
    "id": "pRwCuva1IlG8",
    "outputId": "dbc737fa-79d6-407a-84c9-7bafb0470c91"
   },
   "outputs": [
    {
     "data": {
      "image/png": "[encoded data removed]",
      "text/plain": [
       "<Figure size 648x360 with 2 Axes>"
      ]
     },
     "metadata": {
      "needs_background": "light"
     },
     "output_type": "display_data"
    }
   ],
   "source": [
    "plt.figure(figsize=[9,5])\n",
    "acc_curve=np.array(history.history['accuracy'])\n",
    "loss_curve=np.array(history.history['loss'])\n",
    "plot_curve(acc_curve,loss_curve)"
   ]
  },
  {
   "cell_type": "code",
   "execution_count": null,
   "metadata": {
    "colab": {
     "base_uri": "https://localhost:8080/"
    },
    "executionInfo": {
     "elapsed": 378,
     "status": "ok",
     "timestamp": 1634658714352,
     "user": {
      "displayName": "Murtadha Hssayeni",
      "photoUrl": "https://lh3.googleusercontent.com/a-/AOh14Gjl8zOn-q4_CorFCcIx1B1NDGl5E0qOcTENwoIy=s64",
      "userId": "16797547346214113523"
     },
     "user_tz": 240
    },
    "id": "go3eCtnSGxXu",
    "outputId": "b0ad3d71-7e1f-489e-ee96-4503af503d16"
   },
   "outputs": [
    {
     "name": "stdout",
     "output_type": "stream",
     "text": [
      "1/1 [==============================] - 0s 129ms/step - loss: 0.0631 - accuracy: 1.0000\n",
      "Total loss on testing set:  0.06314744055271149\n",
      "Accuracy of testing set:  1.0\n",
      "The probability of class 1 for the test samples is: \n",
      " [[0.02451006]\n",
      " [0.99999547]]\n",
      "The classes for the test samples is: \n",
      " [[0]\n",
      " [1]]\n"
     ]
    }
   ],
   "source": [
    "#Evaluating the model on a held-out samples\n",
    "test_samples=np.array([[0,0],[2,2]])\n",
    "test_y=np.array([0,1])\n",
    "score=model_a.evaluate(test_samples,test_y)\n",
    "print('Total loss on testing set: ', score[0])\n",
    "print('Accuracy of testing set: ', score[1])\n",
    "\n",
    "#predicting the class of a new sample\n",
    "test_samples=np.array([[0,-2],[2,5]])\n",
    "test_class1_prob=model_a.predict(test_samples)\n",
    "print('The probability of class 1 for the test samples is: \\n', \n",
    "      test_class1_prob)\n",
    "test_lab=np.uint8(test_class1_prob>0.5)\n",
    "print('The classes for the test samples is: \\n', test_lab)"
   ]
  },
  {
   "cell_type": "markdown",
   "metadata": {
    "id": "TpclZRfwPOVq"
   },
   "source": [
    "# Designing one-class classification problem, two-layer network  with Keras - Example 2\n",
    "\n",
    "In this example, we are using a sigmoid activation at the last layer, binary cross-entropy as the loss, stochastic gradient descent as the optimizer, and classes 0 and 1."
   ]
  },
  {
   "cell_type": "code",
   "execution_count": null,
   "metadata": {
    "colab": {
     "base_uri": "https://localhost:8080/",
     "height": 1000
    },
    "executionInfo": {
     "elapsed": 5825,
     "status": "ok",
     "timestamp": 1634658737687,
     "user": {
      "displayName": "Murtadha Hssayeni",
      "photoUrl": "https://lh3.googleusercontent.com/a-/AOh14Gjl8zOn-q4_CorFCcIx1B1NDGl5E0qOcTENwoIy=s64",
      "userId": "16797547346214113523"
     },
     "user_tz": 240
    },
    "id": "yxEsSZKSPgCb",
    "outputId": "5310bc32-cc63-4a40-ea45-a81ae3f5fd4f"
   },
   "outputs": [
    {
     "name": "stdout",
     "output_type": "stream",
     "text": [
      "Model: \"sequential_3\"\n",
      "_________________________________________________________________\n",
      "Layer (type)                 Output Shape              Param #   \n",
      "=================================================================\n",
      "dense_3 (Dense)              (None, 3)                 9         \n",
      "_________________________________________________________________\n",
      "dense_4 (Dense)              (None, 1)                 4         \n",
      "=================================================================\n",
      "Total params: 13\n",
      "Trainable params: 13\n",
      "Non-trainable params: 0\n",
      "_________________________________________________________________\n"
     ]
    },
    {
     "name": "stderr",
     "output_type": "stream",
     "text": [
      "/usr/local/lib/python3.7/dist-packages/keras/optimizer_v2/optimizer_v2.py:356: UserWarning: The `lr` argument is deprecated, use `learning_rate` instead.\n",
      "  \"The `lr` argument is deprecated, use `learning_rate` instead.\")\n"
     ]
    },
    {
     "data": {
      "image/png": "[encoded data removed]",
      "text/plain": [
       "<Figure size 432x288 with 1 Axes>"
      ]
     },
     "metadata": {
      "needs_background": "light"
     },
     "output_type": "display_data"
    },
    {
     "name": "stdout",
     "output_type": "stream",
     "text": [
      "Epoch 1/200\n",
      "4/4 [==============================] - 0s 4ms/step - loss: 0.6979 - accuracy: 0.6250\n",
      "Epoch 2/200\n",
      "4/4 [==============================] - 0s 3ms/step - loss: 0.6767 - accuracy: 0.6250\n",
      "Epoch 3/200\n",
      "4/4 [==============================] - 0s 3ms/step - loss: 0.6461 - accuracy: 0.6250\n",
      "Epoch 4/200\n",
      "4/4 [==============================] - 0s 3ms/step - loss: 0.6534 - accuracy: 0.6250\n",
      "Epoch 5/200\n",
      "4/4 [==============================] - 0s 2ms/step - loss: 0.6317 - accuracy: 0.6875\n",
      "Epoch 6/200\n",
      "4/4 [==============================] - 0s 5ms/step - loss: 0.6185 - accuracy: 0.6250\n",
      "Epoch 7/200\n",
      "4/4 [==============================] - 0s 3ms/step - loss: 0.6035 - accuracy: 0.6875\n",
      "Epoch 8/200\n",
      "4/4 [==============================] - 0s 3ms/step - loss: 0.5774 - accuracy: 0.7500\n",
      "Epoch 9/200\n",
      "4/4 [==============================] - 0s 3ms/step - loss: 0.5510 - accuracy: 0.6875\n",
      "Epoch 10/200\n",
      "4/4 [==============================] - 0s 3ms/step - loss: 0.5733 - accuracy: 0.7500\n",
      "Epoch 11/200\n",
      "4/4 [==============================] - 0s 3ms/step - loss: 0.5340 - accuracy: 0.8125\n",
      "Epoch 12/200\n",
      "4/4 [==============================] - 0s 3ms/step - loss: 0.5265 - accuracy: 0.7500\n",
      "Epoch 13/200\n",
      "4/4 [==============================] - 0s 3ms/step - loss: 0.5061 - accuracy: 0.8125\n",
      "Epoch 14/200\n",
      "4/4 [==============================] - 0s 4ms/step - loss: 0.5095 - accuracy: 0.8125\n",
      "Epoch 15/200\n",
      "4/4 [==============================] - 0s 4ms/step - loss: 0.4909 - accuracy: 0.8125\n",
      "Epoch 16/200\n",
      "4/4 [==============================] - 0s 5ms/step - loss: 0.4865 - accuracy: 0.8125\n",
      "Epoch 17/200\n",
      "4/4 [==============================] - 0s 4ms/step - loss: 0.4935 - accuracy: 0.8750\n",
      "Epoch 18/200\n",
      "4/4 [==============================] - 0s 4ms/step - loss: 0.4569 - accuracy: 0.8750\n",
      "Epoch 19/200\n",
      "4/4 [==============================] - 0s 3ms/step - loss: 0.4606 - accuracy: 0.8750\n",
      "Epoch 20/200\n",
      "4/4 [==============================] - 0s 3ms/step - loss: 0.4329 - accuracy: 0.9375\n",
      "Epoch 21/200\n",
      "4/4 [==============================] - 0s 3ms/step - loss: 0.4359 - accuracy: 0.9375\n",
      "Epoch 22/200\n",
      "4/4 [==============================] - 0s 4ms/step - loss: 0.4332 - accuracy: 0.9375\n",
      "Epoch 23/200\n",
      "4/4 [==============================] - 0s 3ms/step - loss: 0.4109 - accuracy: 0.8750\n",
      "Epoch 24/200\n",
      "4/4 [==============================] - 0s 3ms/step - loss: 0.4028 - accuracy: 0.9375\n",
      "Epoch 25/200\n",
      "4/4 [==============================] - 0s 3ms/step - loss: 0.4147 - accuracy: 0.9375\n",
      "Epoch 26/200\n",
      "4/4 [==============================] - 0s 3ms/step - loss: 0.3964 - accuracy: 0.8750\n",
      "Epoch 27/200\n",
      "4/4 [==============================] - 0s 3ms/step - loss: 0.3733 - accuracy: 0.9375\n",
      "Epoch 28/200\n",
      "4/4 [==============================] - 0s 2ms/step - loss: 0.3783 - accuracy: 0.9375\n",
      "Epoch 29/200\n",
      "4/4 [==============================] - 0s 5ms/step - loss: 0.3779 - accuracy: 0.9375\n",
      "Epoch 30/200\n",
      "4/4 [==============================] - 0s 4ms/step - loss: 0.3490 - accuracy: 0.9375\n",
      "Epoch 31/200\n",
      "4/4 [==============================] - 0s 3ms/step - loss: 0.3461 - accuracy: 0.9375\n",
      "Epoch 32/200\n",
      "4/4 [==============================] - 0s 6ms/step - loss: 0.3628 - accuracy: 0.9375\n",
      "Epoch 33/200\n",
      "4/4 [==============================] - 0s 3ms/step - loss: 0.3479 - accuracy: 0.9375\n",
      "Epoch 34/200\n",
      "4/4 [==============================] - 0s 4ms/step - loss: 0.3309 - accuracy: 0.9375\n",
      "Epoch 35/200\n",
      "4/4 [==============================] - 0s 3ms/step - loss: 0.3287 - accuracy: 0.9375\n",
      "Epoch 36/200\n",
      "4/4 [==============================] - 0s 5ms/step - loss: 0.3326 - accuracy: 0.9375\n",
      "Epoch 37/200\n",
      "4/4 [==============================] - 0s 3ms/step - loss: 0.3469 - accuracy: 0.9375\n",
      "Epoch 38/200\n",
      "4/4 [==============================] - 0s 5ms/step - loss: 0.3299 - accuracy: 0.9375\n",
      "Epoch 39/200\n",
      "4/4 [==============================] - 0s 5ms/step - loss: 0.3103 - accuracy: 0.9375\n",
      "Epoch 40/200\n",
      "4/4 [==============================] - 0s 4ms/step - loss: 0.3151 - accuracy: 0.9375\n",
      "Epoch 41/200\n",
      "4/4 [==============================] - 0s 3ms/step - loss: 0.3123 - accuracy: 0.9375\n",
      "Epoch 42/200\n",
      "4/4 [==============================] - 0s 3ms/step - loss: 0.3020 - accuracy: 0.9375\n",
      "Epoch 43/200\n",
      "4/4 [==============================] - 0s 4ms/step - loss: 0.3180 - accuracy: 0.9375\n",
      "Epoch 44/200\n",
      "4/4 [==============================] - 0s 3ms/step - loss: 0.2961 - accuracy: 0.9375\n",
      "Epoch 45/200\n",
      "4/4 [==============================] - 0s 3ms/step - loss: 0.3066 - accuracy: 0.9375\n",
      "Epoch 46/200\n",
      "4/4 [==============================] - 0s 3ms/step - loss: 0.3022 - accuracy: 0.9375\n",
      "Epoch 47/200\n",
      "4/4 [==============================] - 0s 3ms/step - loss: 0.2973 - accuracy: 0.9375\n",
      "Epoch 48/200\n",
      "4/4 [==============================] - 0s 3ms/step - loss: 0.2937 - accuracy: 0.9375\n",
      "Epoch 49/200\n",
      "4/4 [==============================] - 0s 3ms/step - loss: 0.2894 - accuracy: 0.9375\n",
      "Epoch 50/200\n",
      "4/4 [==============================] - 0s 3ms/step - loss: 0.2700 - accuracy: 0.9375\n",
      "Epoch 51/200\n",
      "4/4 [==============================] - 0s 3ms/step - loss: 0.2694 - accuracy: 0.9375\n",
      "Epoch 52/200\n",
      "4/4 [==============================] - 0s 4ms/step - loss: 0.2212 - accuracy: 0.9375\n",
      "Epoch 53/200\n",
      "4/4 [==============================] - 0s 3ms/step - loss: 0.2523 - accuracy: 0.8750\n",
      "Epoch 54/200\n",
      "4/4 [==============================] - 0s 4ms/step - loss: 0.2141 - accuracy: 0.9375\n",
      "Epoch 55/200\n",
      "4/4 [==============================] - 0s 3ms/step - loss: 0.2290 - accuracy: 0.9375\n",
      "Epoch 56/200\n",
      "4/4 [==============================] - 0s 5ms/step - loss: 0.1884 - accuracy: 0.9375\n",
      "Epoch 57/200\n",
      "4/4 [==============================] - 0s 3ms/step - loss: 0.2005 - accuracy: 0.9375\n",
      "Epoch 58/200\n",
      "4/4 [==============================] - 0s 3ms/step - loss: 0.2250 - accuracy: 0.9375\n",
      "Epoch 59/200\n",
      "4/4 [==============================] - 0s 3ms/step - loss: 0.2217 - accuracy: 0.8750\n",
      "Epoch 60/200\n",
      "4/4 [==============================] - 0s 3ms/step - loss: 0.1730 - accuracy: 0.9375\n",
      "Epoch 61/200\n",
      "4/4 [==============================] - 0s 4ms/step - loss: 0.2113 - accuracy: 0.9375\n",
      "Epoch 62/200\n",
      "4/4 [==============================] - 0s 4ms/step - loss: 0.1734 - accuracy: 0.9375\n",
      "Epoch 63/200\n",
      "4/4 [==============================] - 0s 4ms/step - loss: 0.2182 - accuracy: 0.8750\n",
      "Epoch 64/200\n",
      "4/4 [==============================] - 0s 3ms/step - loss: 0.1434 - accuracy: 1.0000\n",
      "Epoch 65/200\n",
      "4/4 [==============================] - 0s 4ms/step - loss: 0.1470 - accuracy: 0.9375\n",
      "Epoch 66/200\n",
      "4/4 [==============================] - 0s 3ms/step - loss: 0.1803 - accuracy: 0.9375\n",
      "Epoch 67/200\n",
      "4/4 [==============================] - 0s 3ms/step - loss: 0.1785 - accuracy: 0.9375\n",
      "Epoch 68/200\n",
      "4/4 [==============================] - 0s 4ms/step - loss: 0.1707 - accuracy: 0.9375\n",
      "Epoch 69/200\n",
      "4/4 [==============================] - 0s 3ms/step - loss: 0.1244 - accuracy: 1.0000\n",
      "Epoch 70/200\n",
      "4/4 [==============================] - 0s 3ms/step - loss: 0.1202 - accuracy: 1.0000\n",
      "Epoch 71/200\n",
      "4/4 [==============================] - 0s 5ms/step - loss: 0.1305 - accuracy: 0.9375\n",
      "Epoch 72/200\n",
      "4/4 [==============================] - 0s 4ms/step - loss: 0.1595 - accuracy: 0.9375\n",
      "Epoch 73/200\n",
      "4/4 [==============================] - 0s 4ms/step - loss: 0.1483 - accuracy: 0.9375\n",
      "Epoch 74/200\n",
      "4/4 [==============================] - 0s 3ms/step - loss: 0.2247 - accuracy: 0.8750\n",
      "Epoch 75/200\n",
      "4/4 [==============================] - 0s 3ms/step - loss: 0.1727 - accuracy: 0.9375\n",
      "Epoch 76/200\n",
      "4/4 [==============================] - 0s 3ms/step - loss: 0.1012 - accuracy: 1.0000\n",
      "Epoch 77/200\n",
      "4/4 [==============================] - 0s 5ms/step - loss: 0.1027 - accuracy: 1.0000\n",
      "Epoch 78/200\n",
      "4/4 [==============================] - 0s 4ms/step - loss: 0.1008 - accuracy: 1.0000\n",
      "Epoch 79/200\n",
      "4/4 [==============================] - 0s 4ms/step - loss: 0.1071 - accuracy: 1.0000\n",
      "Epoch 80/200\n",
      "4/4 [==============================] - 0s 3ms/step - loss: 0.1075 - accuracy: 1.0000\n",
      "Epoch 81/200\n",
      "4/4 [==============================] - 0s 3ms/step - loss: 0.0884 - accuracy: 1.0000\n",
      "Epoch 82/200\n",
      "4/4 [==============================] - 0s 4ms/step - loss: 0.0943 - accuracy: 1.0000\n",
      "Epoch 83/200\n",
      "4/4 [==============================] - 0s 3ms/step - loss: 0.1006 - accuracy: 1.0000\n",
      "Epoch 84/200\n",
      "4/4 [==============================] - 0s 3ms/step - loss: 0.0855 - accuracy: 1.0000\n",
      "Epoch 85/200\n",
      "4/4 [==============================] - 0s 3ms/step - loss: 0.0820 - accuracy: 1.0000\n",
      "Epoch 86/200\n",
      "4/4 [==============================] - 0s 3ms/step - loss: 0.0883 - accuracy: 1.0000\n",
      "Epoch 87/200\n",
      "4/4 [==============================] - 0s 3ms/step - loss: 0.0814 - accuracy: 1.0000\n",
      "Epoch 88/200\n",
      "4/4 [==============================] - 0s 3ms/step - loss: 0.0857 - accuracy: 1.0000\n",
      "Epoch 89/200\n",
      "4/4 [==============================] - 0s 3ms/step - loss: 0.0755 - accuracy: 1.0000\n",
      "Epoch 90/200\n",
      "4/4 [==============================] - 0s 4ms/step - loss: 0.0628 - accuracy: 1.0000\n",
      "Epoch 91/200\n",
      "4/4 [==============================] - 0s 4ms/step - loss: 0.0675 - accuracy: 1.0000\n",
      "Epoch 92/200\n",
      "4/4 [==============================] - 0s 3ms/step - loss: 0.0650 - accuracy: 1.0000\n",
      "Epoch 93/200\n",
      "4/4 [==============================] - 0s 7ms/step - loss: 0.0703 - accuracy: 1.0000\n",
      "Epoch 94/200\n",
      "4/4 [==============================] - 0s 2ms/step - loss: 0.0637 - accuracy: 1.0000\n",
      "Epoch 95/200\n",
      "4/4 [==============================] - 0s 3ms/step - loss: 0.0630 - accuracy: 1.0000\n",
      "Epoch 96/200\n",
      "4/4 [==============================] - 0s 3ms/step - loss: 0.0579 - accuracy: 1.0000\n",
      "Epoch 97/200\n",
      "4/4 [==============================] - 0s 3ms/step - loss: 0.0641 - accuracy: 1.0000\n",
      "Epoch 98/200\n",
      "4/4 [==============================] - 0s 3ms/step - loss: 0.0570 - accuracy: 1.0000\n",
      "Epoch 99/200\n",
      "4/4 [==============================] - 0s 4ms/step - loss: 0.0542 - accuracy: 1.0000\n",
      "Epoch 100/200\n",
      "4/4 [==============================] - 0s 3ms/step - loss: 0.0550 - accuracy: 1.0000\n",
      "Epoch 101/200\n",
      "4/4 [==============================] - 0s 3ms/step - loss: 0.0523 - accuracy: 1.0000\n",
      "Epoch 102/200\n",
      "4/4 [==============================] - 0s 4ms/step - loss: 0.0534 - accuracy: 1.0000\n",
      "Epoch 103/200\n",
      "4/4 [==============================] - 0s 4ms/step - loss: 0.0486 - accuracy: 1.0000\n",
      "Epoch 104/200\n",
      "4/4 [==============================] - 0s 4ms/step - loss: 0.0495 - accuracy: 1.0000\n",
      "Epoch 105/200\n",
      "4/4 [==============================] - 0s 6ms/step - loss: 0.0519 - accuracy: 1.0000\n",
      "Epoch 106/200\n",
      "4/4 [==============================] - 0s 4ms/step - loss: 0.0489 - accuracy: 1.0000\n",
      "Epoch 107/200\n",
      "4/4 [==============================] - 0s 5ms/step - loss: 0.0468 - accuracy: 1.0000\n",
      "Epoch 108/200\n",
      "4/4 [==============================] - 0s 3ms/step - loss: 0.0459 - accuracy: 1.0000\n",
      "Epoch 109/200\n",
      "4/4 [==============================] - 0s 3ms/step - loss: 0.0468 - accuracy: 1.0000\n",
      "Epoch 110/200\n",
      "4/4 [==============================] - 0s 3ms/step - loss: 0.0477 - accuracy: 1.0000\n",
      "Epoch 111/200\n",
      "4/4 [==============================] - 0s 3ms/step - loss: 0.0445 - accuracy: 1.0000\n",
      "Epoch 112/200\n",
      "4/4 [==============================] - 0s 3ms/step - loss: 0.0413 - accuracy: 1.0000\n",
      "Epoch 113/200\n",
      "4/4 [==============================] - 0s 4ms/step - loss: 0.0432 - accuracy: 1.0000\n",
      "Epoch 114/200\n",
      "4/4 [==============================] - 0s 4ms/step - loss: 0.0440 - accuracy: 1.0000\n",
      "Epoch 115/200\n",
      "4/4 [==============================] - 0s 3ms/step - loss: 0.0388 - accuracy: 1.0000\n",
      "Epoch 116/200\n",
      "4/4 [==============================] - 0s 3ms/step - loss: 0.0369 - accuracy: 1.0000\n",
      "Epoch 117/200\n",
      "4/4 [==============================] - 0s 4ms/step - loss: 0.0400 - accuracy: 1.0000\n",
      "Epoch 118/200\n",
      "4/4 [==============================] - 0s 3ms/step - loss: 0.0395 - accuracy: 1.0000\n",
      "Epoch 119/200\n",
      "4/4 [==============================] - 0s 3ms/step - loss: 0.0369 - accuracy: 1.0000\n",
      "Epoch 120/200\n",
      "4/4 [==============================] - 0s 3ms/step - loss: 0.0363 - accuracy: 1.0000\n",
      "Epoch 121/200\n",
      "4/4 [==============================] - 0s 4ms/step - loss: 0.0352 - accuracy: 1.0000\n",
      "Epoch 122/200\n",
      "4/4 [==============================] - 0s 3ms/step - loss: 0.0370 - accuracy: 1.0000\n",
      "Epoch 123/200\n",
      "4/4 [==============================] - 0s 3ms/step - loss: 0.0366 - accuracy: 1.0000\n",
      "Epoch 124/200\n",
      "4/4 [==============================] - 0s 5ms/step - loss: 0.0340 - accuracy: 1.0000\n",
      "Epoch 125/200\n",
      "4/4 [==============================] - 0s 4ms/step - loss: 0.0342 - accuracy: 1.0000\n",
      "Epoch 126/200\n",
      "4/4 [==============================] - 0s 4ms/step - loss: 0.0335 - accuracy: 1.0000\n",
      "Epoch 127/200\n",
      "4/4 [==============================] - 0s 3ms/step - loss: 0.0326 - accuracy: 1.0000\n",
      "Epoch 128/200\n",
      "4/4 [==============================] - 0s 4ms/step - loss: 0.0333 - accuracy: 1.0000\n",
      "Epoch 129/200\n",
      "4/4 [==============================] - 0s 4ms/step - loss: 0.0327 - accuracy: 1.0000\n",
      "Epoch 130/200\n",
      "4/4 [==============================] - 0s 4ms/step - loss: 0.0322 - accuracy: 1.0000\n",
      "Epoch 131/200\n",
      "4/4 [==============================] - 0s 4ms/step - loss: 0.0320 - accuracy: 1.0000\n",
      "Epoch 132/200\n",
      "4/4 [==============================] - 0s 3ms/step - loss: 0.0314 - accuracy: 1.0000\n",
      "Epoch 133/200\n",
      "4/4 [==============================] - 0s 3ms/step - loss: 0.0297 - accuracy: 1.0000\n",
      "Epoch 134/200\n",
      "4/4 [==============================] - 0s 4ms/step - loss: 0.0299 - accuracy: 1.0000\n",
      "Epoch 135/200\n",
      "4/4 [==============================] - 0s 4ms/step - loss: 0.0299 - accuracy: 1.0000\n",
      "Epoch 136/200\n",
      "4/4 [==============================] - 0s 5ms/step - loss: 0.0296 - accuracy: 1.0000\n",
      "Epoch 137/200\n",
      "4/4 [==============================] - 0s 4ms/step - loss: 0.0303 - accuracy: 1.0000\n",
      "Epoch 138/200\n",
      "4/4 [==============================] - 0s 4ms/step - loss: 0.0305 - accuracy: 1.0000\n",
      "Epoch 139/200\n",
      "4/4 [==============================] - 0s 4ms/step - loss: 0.0284 - accuracy: 1.0000\n",
      "Epoch 140/200\n",
      "4/4 [==============================] - 0s 3ms/step - loss: 0.0280 - accuracy: 1.0000\n",
      "Epoch 141/200\n",
      "4/4 [==============================] - 0s 5ms/step - loss: 0.0278 - accuracy: 1.0000\n",
      "Epoch 142/200\n",
      "4/4 [==============================] - 0s 4ms/step - loss: 0.0266 - accuracy: 1.0000\n",
      "Epoch 143/200\n",
      "4/4 [==============================] - 0s 5ms/step - loss: 0.0270 - accuracy: 1.0000\n",
      "Epoch 144/200\n",
      "4/4 [==============================] - 0s 4ms/step - loss: 0.0273 - accuracy: 1.0000\n",
      "Epoch 145/200\n",
      "4/4 [==============================] - 0s 4ms/step - loss: 0.0261 - accuracy: 1.0000\n",
      "Epoch 146/200\n",
      "4/4 [==============================] - 0s 4ms/step - loss: 0.0266 - accuracy: 1.0000\n",
      "Epoch 147/200\n",
      "4/4 [==============================] - 0s 4ms/step - loss: 0.0250 - accuracy: 1.0000\n",
      "Epoch 148/200\n",
      "4/4 [==============================] - 0s 3ms/step - loss: 0.0256 - accuracy: 1.0000\n",
      "Epoch 149/200\n",
      "4/4 [==============================] - 0s 4ms/step - loss: 0.0250 - accuracy: 1.0000\n",
      "Epoch 150/200\n",
      "4/4 [==============================] - 0s 3ms/step - loss: 0.0237 - accuracy: 1.0000\n",
      "Epoch 151/200\n",
      "4/4 [==============================] - 0s 4ms/step - loss: 0.0239 - accuracy: 1.0000\n",
      "Epoch 152/200\n",
      "4/4 [==============================] - 0s 3ms/step - loss: 0.0242 - accuracy: 1.0000\n",
      "Epoch 153/200\n",
      "4/4 [==============================] - 0s 3ms/step - loss: 0.0233 - accuracy: 1.0000\n",
      "Epoch 154/200\n",
      "4/4 [==============================] - 0s 3ms/step - loss: 0.0243 - accuracy: 1.0000\n",
      "Epoch 155/200\n",
      "4/4 [==============================] - 0s 4ms/step - loss: 0.0236 - accuracy: 1.0000\n",
      "Epoch 156/200\n",
      "4/4 [==============================] - 0s 5ms/step - loss: 0.0237 - accuracy: 1.0000\n",
      "Epoch 157/200\n",
      "4/4 [==============================] - 0s 4ms/step - loss: 0.0229 - accuracy: 1.0000\n",
      "Epoch 158/200\n",
      "4/4 [==============================] - 0s 5ms/step - loss: 0.0237 - accuracy: 1.0000\n",
      "Epoch 159/200\n",
      "4/4 [==============================] - 0s 4ms/step - loss: 0.0229 - accuracy: 1.0000\n",
      "Epoch 160/200\n",
      "4/4 [==============================] - 0s 3ms/step - loss: 0.0224 - accuracy: 1.0000\n",
      "Epoch 161/200\n",
      "4/4 [==============================] - 0s 3ms/step - loss: 0.0225 - accuracy: 1.0000\n",
      "Epoch 162/200\n",
      "4/4 [==============================] - 0s 4ms/step - loss: 0.0227 - accuracy: 1.0000\n",
      "Epoch 163/200\n",
      "4/4 [==============================] - 0s 3ms/step - loss: 0.0220 - accuracy: 1.0000\n",
      "Epoch 164/200\n",
      "4/4 [==============================] - 0s 4ms/step - loss: 0.0216 - accuracy: 1.0000\n",
      "Epoch 165/200\n",
      "4/4 [==============================] - 0s 4ms/step - loss: 0.0219 - accuracy: 1.0000\n",
      "Epoch 166/200\n",
      "4/4 [==============================] - 0s 5ms/step - loss: 0.0210 - accuracy: 1.0000\n",
      "Epoch 167/200\n",
      "4/4 [==============================] - 0s 5ms/step - loss: 0.0218 - accuracy: 1.0000\n",
      "Epoch 168/200\n",
      "4/4 [==============================] - 0s 5ms/step - loss: 0.0209 - accuracy: 1.0000\n",
      "Epoch 169/200\n",
      "4/4 [==============================] - 0s 3ms/step - loss: 0.0210 - accuracy: 1.0000\n",
      "Epoch 170/200\n",
      "4/4 [==============================] - 0s 4ms/step - loss: 0.0208 - accuracy: 1.0000\n",
      "Epoch 171/200\n",
      "4/4 [==============================] - 0s 3ms/step - loss: 0.0202 - accuracy: 1.0000\n",
      "Epoch 172/200\n",
      "4/4 [==============================] - 0s 4ms/step - loss: 0.0203 - accuracy: 1.0000\n",
      "Epoch 173/200\n",
      "4/4 [==============================] - 0s 5ms/step - loss: 0.0203 - accuracy: 1.0000\n",
      "Epoch 174/200\n",
      "4/4 [==============================] - 0s 4ms/step - loss: 0.0199 - accuracy: 1.0000\n",
      "Epoch 175/200\n",
      "4/4 [==============================] - 0s 3ms/step - loss: 0.0199 - accuracy: 1.0000\n",
      "Epoch 176/200\n",
      "4/4 [==============================] - 0s 4ms/step - loss: 0.0195 - accuracy: 1.0000\n",
      "Epoch 177/200\n",
      "4/4 [==============================] - 0s 4ms/step - loss: 0.0197 - accuracy: 1.0000\n",
      "Epoch 178/200\n",
      "4/4 [==============================] - 0s 3ms/step - loss: 0.0191 - accuracy: 1.0000\n",
      "Epoch 179/200\n",
      "4/4 [==============================] - 0s 3ms/step - loss: 0.0192 - accuracy: 1.0000\n",
      "Epoch 180/200\n",
      "4/4 [==============================] - 0s 5ms/step - loss: 0.0185 - accuracy: 1.0000\n",
      "Epoch 181/200\n",
      "4/4 [==============================] - 0s 4ms/step - loss: 0.0183 - accuracy: 1.0000\n",
      "Epoch 182/200\n",
      "4/4 [==============================] - 0s 3ms/step - loss: 0.0178 - accuracy: 1.0000\n",
      "Epoch 183/200\n",
      "4/4 [==============================] - 0s 3ms/step - loss: 0.0181 - accuracy: 1.0000\n",
      "Epoch 184/200\n",
      "4/4 [==============================] - 0s 3ms/step - loss: 0.0183 - accuracy: 1.0000\n",
      "Epoch 185/200\n",
      "4/4 [==============================] - 0s 5ms/step - loss: 0.0184 - accuracy: 1.0000\n",
      "Epoch 186/200\n",
      "4/4 [==============================] - 0s 4ms/step - loss: 0.0179 - accuracy: 1.0000\n",
      "Epoch 187/200\n",
      "4/4 [==============================] - 0s 3ms/step - loss: 0.0181 - accuracy: 1.0000\n",
      "Epoch 188/200\n",
      "4/4 [==============================] - 0s 4ms/step - loss: 0.0171 - accuracy: 1.0000\n",
      "Epoch 189/200\n",
      "4/4 [==============================] - 0s 4ms/step - loss: 0.0176 - accuracy: 1.0000\n",
      "Epoch 190/200\n",
      "4/4 [==============================] - 0s 3ms/step - loss: 0.0176 - accuracy: 1.0000\n",
      "Epoch 191/200\n",
      "4/4 [==============================] - 0s 3ms/step - loss: 0.0176 - accuracy: 1.0000\n",
      "Epoch 192/200\n",
      "4/4 [==============================] - 0s 5ms/step - loss: 0.0167 - accuracy: 1.0000\n",
      "Epoch 193/200\n",
      "4/4 [==============================] - 0s 6ms/step - loss: 0.0170 - accuracy: 1.0000\n",
      "Epoch 194/200\n",
      "4/4 [==============================] - 0s 5ms/step - loss: 0.0169 - accuracy: 1.0000\n",
      "Epoch 195/200\n",
      "4/4 [==============================] - 0s 4ms/step - loss: 0.0162 - accuracy: 1.0000\n",
      "Epoch 196/200\n",
      "4/4 [==============================] - 0s 5ms/step - loss: 0.0164 - accuracy: 1.0000\n",
      "Epoch 197/200\n",
      "4/4 [==============================] - 0s 4ms/step - loss: 0.0163 - accuracy: 1.0000\n",
      "Epoch 198/200\n",
      "4/4 [==============================] - 0s 4ms/step - loss: 0.0161 - accuracy: 1.0000\n",
      "Epoch 199/200\n",
      "4/4 [==============================] - 0s 4ms/step - loss: 0.0162 - accuracy: 1.0000\n",
      "Epoch 200/200\n",
      "4/4 [==============================] - 0s 3ms/step - loss: 0.0161 - accuracy: 1.0000\n"
     ]
    }
   ],
   "source": [
    "from tensorflow.keras.models import Sequential\n",
    "from tensorflow.keras.layers import Dense\n",
    "from tensorflow.keras.optimizers import SGD\n",
    "#defining the model\n",
    "model_a=Sequential()\n",
    "model_a.add(Dense(input_dim=2, units=3, activation='tanh'))\n",
    "model_a.add(Dense(units=1, activation='sigmoid'))\n",
    "model_a.summary()\n",
    "\n",
    "#compiling the model\n",
    "model_a.compile(loss='binary_crossentropy',\n",
    "              optimizer=SGD(lr=0.5), \n",
    "              metrics=['accuracy'])\n",
    "\n",
    "#Loading the data and normalization\n",
    "features=np.array([[1,1], [1,-1], [0,-1], [0.5,3], [0.7,2], \n",
    "                   [-1,3], [-1,1], [3,-1],[1,5],[3.5,2.5],[3,3],[1.5,2.5],[1,3],\n",
    "                   [2,1],[0.1,2],[1.2,2.2]])\n",
    "labels=np.array([1,0,0,1,1,0,0,0, 0,0,0,1,1,1,1,1], dtype=np.uint8)\n",
    "classes=[0,1]\n",
    "\n",
    "features = (features-np.mean(features,axis=0))/np.std(features,axis=0) #normalization\n",
    "plot_fun(features,labels,classes)\n",
    "\n",
    "history=model_a.fit(features, labels,\n",
    "          batch_size=4,\n",
    "          epochs=200,\n",
    "          verbose=1) \n",
    "\n",
    "#          validation_data=(x_val, y_val)"
   ]
  },
  {
   "cell_type": "code",
   "execution_count": null,
   "metadata": {
    "colab": {
     "base_uri": "https://localhost:8080/",
     "height": 334
    },
    "executionInfo": {
     "elapsed": 460,
     "status": "ok",
     "timestamp": 1634658739968,
     "user": {
      "displayName": "Murtadha Hssayeni",
      "photoUrl": "https://lh3.googleusercontent.com/a-/AOh14Gjl8zOn-q4_CorFCcIx1B1NDGl5E0qOcTENwoIy=s64",
      "userId": "16797547346214113523"
     },
     "user_tz": 240
    },
    "id": "Jl3nvylqRT5j",
    "outputId": "159b91dc-4e8c-49b6-b035-2daba51a6f45"
   },
   "outputs": [
    {
     "data": {
      "image/png": "[encoded data removed]",
      "text/plain": [
       "<Figure size 360x360 with 1 Axes>"
      ]
     },
     "metadata": {
      "needs_background": "light"
     },
     "output_type": "display_data"
    }
   ],
   "source": [
    "weights=model_a.layers[0].get_weights() \n",
    "plt.figure(figsize=[5,5])\n",
    "for node_i in range(weights[0].shape[1]):\n",
    "  thre_parms=np.array(weights[0][:,node_i])#This first item is the weights for the inputs \n",
    "  thre_parms=np.append(thre_parms, weights[1][node_i]) #second item the weights for the bias\n",
    "  plot_fun_thr(features,labels,thre_parms,classes)\n",
    "plt.show()"
   ]
  },
  {
   "cell_type": "code",
   "execution_count": null,
   "metadata": {
    "colab": {
     "base_uri": "https://localhost:8080/",
     "height": 295
    },
    "executionInfo": {
     "elapsed": 244,
     "status": "ok",
     "timestamp": 1634658747370,
     "user": {
      "displayName": "Murtadha Hssayeni",
      "photoUrl": "https://lh3.googleusercontent.com/a-/AOh14Gjl8zOn-q4_CorFCcIx1B1NDGl5E0qOcTENwoIy=s64",
      "userId": "16797547346214113523"
     },
     "user_tz": 240
    },
    "id": "sz61pNRe3BZj",
    "outputId": "79d1b537-22e1-4874-f6ef-429d8bb83ba1"
   },
   "outputs": [
    {
     "data": {
      "image/png": "[encoded data removed]",
      "text/plain": [
       "<Figure size 432x288 with 2 Axes>"
      ]
     },
     "metadata": {
      "needs_background": "light"
     },
     "output_type": "display_data"
    }
   ],
   "source": [
    "acc_curve=np.array(history.history['accuracy'])\n",
    "loss_curve=np.array(history.history['loss'])\n",
    "plot_curve(acc_curve,loss_curve)"
   ]
  }
 ],
 "metadata": {
  "colab": {
   "collapsed_sections": [],
   "name": "Neural_Network_Learning_with_Python_Part_2_Keras.ipynb",
   "provenance": []
  },
  "kernelspec": {
   "display_name": "Python 3",
   "name": "python3"
  }
 },
 "nbformat": 4,
 "nbformat_minor": 0
}
