{
 "cells": [
  {
   "cell_type": "markdown",
   "metadata": {
    "id": "jntKuFpjMQD5"
   },
   "source": [
    "# Designing one-class classification problem, one-layer network with Keras - Example 1\n",
    "\n",
    "In this example, we are using a sigmoid activation at the last layer, binary cross-entropy as the loss, stochastic gradient descent as the optimizer, and classes 0 and 1."
   ]
  },
  {
   "cell_type": "code",
   "execution_count": 1,
   "metadata": {
    "id": "l13sv8mJTX73"
   },
   "outputs": [],
   "source": [
    "import numpy as np\n",
    "import matplotlib.pyplot as plt\n",
    "def plot_fun(features,labels,classes):\n",
    "  plt.plot(features[labels[:]==classes[0],0], features[labels[:]==classes[0],1], 'rs', \n",
    "         features[labels[:]==classes[1],0], features[labels[:]==classes[1],1], 'g^',markersize=15)\n",
    "  #plt.axis([-2,2,-2,2])\n",
    "  plt.xlabel('x: feature 1')\n",
    "  plt.ylabel('y: feature 2')\n",
    "  plt.legend(['Class'+str(classes[0]), 'Class'+str(classes[1])])\n",
    "  plt.show()\n",
    "\n",
    "def plot_fun_thr(features,labels,thre_parms,classes):\n",
    "  #ploting the data points\n",
    "  plt.plot(features[labels[:]==classes[0],0], features[labels[:]==classes[0],1], 'rs',\n",
    "           features[labels[:]==classes[1],0], features[labels[:]==classes[1],1], 'g^', \n",
    "           markersize=15)\n",
    "  #plt.axis([-1,2,-1,2])\n",
    "  #ploting the seperating line\n",
    "  x1 = np.linspace(-2,2,50)\n",
    "  x2 = -(thre_parms[0]*x1+thre_parms[2])/thre_parms[1] \n",
    "                      #a X1 + b X2 + c=0 --> x2 = -(a X1 + c)/b\n",
    "  plt.plot(x1, x2, '-r')\n",
    "  plt.xlabel('x: feature 1')\n",
    "  plt.ylabel('y: feature 2')\n",
    "  plt.legend(['Class'+str(classes[0]), 'Class'+str(classes[1])])\n",
    "  #plt.pause(0.5)\n",
    "  #plt.show()\n",
    "\n",
    "def plot_curve(accuracy_train, loss_train):\n",
    "  epochs=np.arange(loss_train.shape[0])\n",
    "  plt.subplot(1,2,1)\n",
    "  plt.plot(epochs,accuracy_train)\n",
    "  #plt.axis([-1,2,-1,2])\n",
    "  plt.xlabel('Epoch#')\n",
    "  plt.ylabel('Accuracy')\n",
    "  plt.title('Training Accuracy')\n",
    "\n",
    "  plt.subplot(1,2,2)\n",
    "  plt.plot(epochs,loss_train)\n",
    "  plt.xlabel('Epoch#')\n",
    "  plt.ylabel('Binary crossentropy loss')\n",
    "  plt.title('Training loss')\n",
    "\n",
    "  plt.show()"
   ]
  },
  {
   "cell_type": "code",
   "execution_count": 2,
   "metadata": {
    "colab": {
     "base_uri": "https://localhost:8080/",
     "height": 1000
    },
    "executionInfo": {
     "elapsed": 2279,
     "status": "ok",
     "timestamp": 1634658522291,
     "user": {
      "displayName": "Murtadha Hssayeni",
      "photoUrl": "https://lh3.googleusercontent.com/a-/AOh14Gjl8zOn-q4_CorFCcIx1B1NDGl5E0qOcTENwoIy=s64",
      "userId": "16797547346214113523"
     },
     "user_tz": 240
    },
    "id": "yYlLl2KeMcgR",
    "outputId": "f8e1bb24-29ab-4132-d0d6-f9021a98ce6a"
   },
   "outputs": [
    {
     "name": "stdout",
     "output_type": "stream",
     "text": [
      "Model: \"sequential\"\n",
      "_________________________________________________________________\n",
      "Layer (type)                 Output Shape              Param #   \n",
      "=================================================================\n",
      "dense (Dense)                (None, 1)                 3         \n",
      "=================================================================\n",
      "Total params: 3\n",
      "Trainable params: 3\n",
      "Non-trainable params: 0\n",
      "_________________________________________________________________\n"
     ]
    },
    {
     "name": "stderr",
     "output_type": "stream",
     "text": [
      "c:\\users\\milind.desktop-gbr1bs2\\appdata\\local\\programs\\python\\python38\\lib\\site-packages\\tensorflow\\python\\keras\\optimizer_v2\\optimizer_v2.py:374: UserWarning: The `lr` argument is deprecated, use `learning_rate` instead.\n",
      "  warnings.warn(\n"
     ]
    },
    {
     "data": {
      "image/png": "[encoded data removed]",
      "text/plain": [
       "<Figure size 432x288 with 1 Axes>"
      ]
     },
     "metadata": {
      "needs_background": "light"
     },
     "output_type": "display_data"
    },
    {
     "name": "stdout",
     "output_type": "stream",
     "text": [
      "Epoch 1/50\n",
      "3/3 [==============================] - 1s 2ms/step - loss: 0.5812 - accuracy: 0.8000\n",
      "Epoch 2/50\n",
      "3/3 [==============================] - 0s 4ms/step - loss: 0.2756 - accuracy: 0.9000\n",
      "Epoch 3/50\n",
      "3/3 [==============================] - 0s 3ms/step - loss: 0.2172 - accuracy: 0.9000\n",
      "Epoch 4/50\n",
      "3/3 [==============================] - 0s 4ms/step - loss: 0.1888 - accuracy: 0.9000\n",
      "Epoch 5/50\n",
      "3/3 [==============================] - 0s 3ms/step - loss: 0.1591 - accuracy: 0.9000\n",
      "Epoch 6/50\n",
      "3/3 [==============================] - 0s 4ms/step - loss: 0.1463 - accuracy: 1.0000\n",
      "Epoch 7/50\n",
      "3/3 [==============================] - 0s 3ms/step - loss: 0.1397 - accuracy: 0.9000\n",
      "Epoch 8/50\n",
      "3/3 [==============================] - 0s 3ms/step - loss: 0.1276 - accuracy: 0.9000\n",
      "Epoch 9/50\n",
      "3/3 [==============================] - 0s 2ms/step - loss: 0.1253 - accuracy: 0.9000\n",
      "Epoch 10/50\n",
      "3/3 [==============================] - 0s 3ms/step - loss: 0.1172 - accuracy: 0.9000\n",
      "Epoch 11/50\n",
      "3/3 [==============================] - 0s 4ms/step - loss: 0.1118 - accuracy: 1.0000\n",
      "Epoch 12/50\n",
      "3/3 [==============================] - 0s 4ms/step - loss: 0.1017 - accuracy: 1.0000\n",
      "Epoch 13/50\n",
      "3/3 [==============================] - 0s 4ms/step - loss: 0.1033 - accuracy: 1.0000\n",
      "Epoch 14/50\n",
      "3/3 [==============================] - 0s 4ms/step - loss: 0.0937 - accuracy: 1.0000\n",
      "Epoch 15/50\n",
      "3/3 [==============================] - 0s 4ms/step - loss: 0.0954 - accuracy: 1.0000\n",
      "Epoch 16/50\n",
      "3/3 [==============================] - 0s 4ms/step - loss: 0.0907 - accuracy: 1.0000\n",
      "Epoch 17/50\n",
      "3/3 [==============================] - 0s 4ms/step - loss: 0.0878 - accuracy: 1.0000\n",
      "Epoch 18/50\n",
      "3/3 [==============================] - 0s 4ms/step - loss: 0.0853 - accuracy: 1.0000\n",
      "Epoch 19/50\n",
      "3/3 [==============================] - 0s 4ms/step - loss: 0.0822 - accuracy: 1.0000\n",
      "Epoch 20/50\n",
      "3/3 [==============================] - 0s 3ms/step - loss: 0.0778 - accuracy: 1.0000\n",
      "Epoch 21/50\n",
      "3/3 [==============================] - 0s 3ms/step - loss: 0.0764 - accuracy: 1.0000\n",
      "Epoch 22/50\n",
      "3/3 [==============================] - 0s 4ms/step - loss: 0.0760 - accuracy: 1.0000\n",
      "Epoch 23/50\n",
      "3/3 [==============================] - 0s 4ms/step - loss: 0.0754 - accuracy: 1.0000\n",
      "Epoch 24/50\n",
      "3/3 [==============================] - 0s 3ms/step - loss: 0.0704 - accuracy: 1.0000\n",
      "Epoch 25/50\n",
      "3/3 [==============================] - 0s 3ms/step - loss: 0.0711 - accuracy: 1.0000\n",
      "Epoch 26/50\n",
      "3/3 [==============================] - 0s 3ms/step - loss: 0.0709 - accuracy: 1.0000\n",
      "Epoch 27/50\n",
      "3/3 [==============================] - 0s 3ms/step - loss: 0.0682 - accuracy: 1.0000\n",
      "Epoch 28/50\n",
      "3/3 [==============================] - 0s 4ms/step - loss: 0.0643 - accuracy: 1.0000\n",
      "Epoch 29/50\n",
      "3/3 [==============================] - 0s 3ms/step - loss: 0.0635 - accuracy: 1.0000\n",
      "Epoch 30/50\n",
      "3/3 [==============================] - 0s 4ms/step - loss: 0.0624 - accuracy: 1.0000\n",
      "Epoch 31/50\n",
      "3/3 [==============================] - 0s 3ms/step - loss: 0.0628 - accuracy: 1.0000\n",
      "Epoch 32/50\n",
      "3/3 [==============================] - 0s 4ms/step - loss: 0.0627 - accuracy: 1.0000\n",
      "Epoch 33/50\n",
      "3/3 [==============================] - 0s 4ms/step - loss: 0.0579 - accuracy: 1.0000\n",
      "Epoch 34/50\n",
      "3/3 [==============================] - 0s 4ms/step - loss: 0.0572 - accuracy: 1.0000\n",
      "Epoch 35/50\n",
      "3/3 [==============================] - 0s 3ms/step - loss: 0.0575 - accuracy: 1.0000\n",
      "Epoch 36/50\n",
      "3/3 [==============================] - 0s 3ms/step - loss: 0.0548 - accuracy: 1.0000\n",
      "Epoch 37/50\n",
      "3/3 [==============================] - 0s 3ms/step - loss: 0.0560 - accuracy: 1.0000\n",
      "Epoch 38/50\n",
      "3/3 [==============================] - 0s 4ms/step - loss: 0.0538 - accuracy: 1.0000\n",
      "Epoch 39/50\n",
      "3/3 [==============================] - 0s 5ms/step - loss: 0.0527 - accuracy: 1.0000\n",
      "Epoch 40/50\n",
      "3/3 [==============================] - 0s 3ms/step - loss: 0.0525 - accuracy: 1.0000\n",
      "Epoch 41/50\n",
      "3/3 [==============================] - 0s 4ms/step - loss: 0.0513 - accuracy: 1.0000\n",
      "Epoch 42/50\n",
      "3/3 [==============================] - 0s 4ms/step - loss: 0.0512 - accuracy: 1.0000\n",
      "Epoch 43/50\n",
      "3/3 [==============================] - 0s 3ms/step - loss: 0.0485 - accuracy: 1.0000\n",
      "Epoch 44/50\n",
      "3/3 [==============================] - 0s 2ms/step - loss: 0.0483 - accuracy: 1.0000\n",
      "Epoch 45/50\n",
      "3/3 [==============================] - 0s 3ms/step - loss: 0.0489 - accuracy: 1.0000\n",
      "Epoch 46/50\n",
      "3/3 [==============================] - 0s 3ms/step - loss: 0.0464 - accuracy: 1.0000\n",
      "Epoch 47/50\n",
      "3/3 [==============================] - 0s 4ms/step - loss: 0.0472 - accuracy: 1.0000\n",
      "Epoch 48/50\n",
      "3/3 [==============================] - 0s 4ms/step - loss: 0.0460 - accuracy: 1.0000\n",
      "Epoch 49/50\n",
      "3/3 [==============================] - 0s 3ms/step - loss: 0.0446 - accuracy: 1.0000\n",
      "Epoch 50/50\n",
      "3/3 [==============================] - 0s 2ms/step - loss: 0.0451 - accuracy: 1.0000\n"
     ]
    }
   ],
   "source": [
    "from tensorflow.keras.models import Sequential\n",
    "from tensorflow.keras.layers import Dense\n",
    "#defining the model\n",
    "model_a=Sequential()\n",
    "model_a.add(Dense(input_dim=2, units=1, activation='sigmoid'))\n",
    "model_a.summary()\n",
    "\n",
    "from tensorflow.keras.optimizers import SGD\n",
    "model_a.compile(loss='binary_crossentropy',\n",
    "              optimizer=SGD(lr=0.9), \n",
    "              metrics=['accuracy'])\n",
    "\n",
    "features=np.array([[1,1], [1,0], [0,1], [-1,-1], [0.5,3], \n",
    "                   [0.7,2], [-1,0], [-1,1], [2,0], [-2,-1]])\n",
    "labels=np.array([1,1,0,0,1,1,0,0,1,0])\n",
    "classes=[0,1]\n",
    "\n",
    "plot_fun(features,labels,classes)\n",
    "\n",
    "history=model_a.fit(features, labels,\n",
    "          batch_size=4,\n",
    "          epochs=50,\n",
    "          verbose=1) \n",
    "\n",
    "# validation_data=(x_val, y_val)\n",
    "\n",
    "#Normalization\n",
    "#features = (features-np.mean(features,axis=0))/np.std(features,axis=0)"
   ]
  },
  {
   "cell_type": "code",
   "execution_count": 4,
   "metadata": {
    "colab": {
     "base_uri": "https://localhost:8080/",
     "height": 297
    },
    "executionInfo": {
     "elapsed": 947,
     "status": "ok",
     "timestamp": 1634658528004,
     "user": {
      "displayName": "Murtadha Hssayeni",
      "photoUrl": "https://lh3.googleusercontent.com/a-/AOh14Gjl8zOn-q4_CorFCcIx1B1NDGl5E0qOcTENwoIy=s64",
      "userId": "16797547346214113523"
     },
     "user_tz": 240
    },
    "id": "AptTt1k2Mh2S",
    "outputId": "8764d09d-3486-4a6b-9364-78a2333bab34"
   },
   "outputs": [
    {
     "name": "stdout",
     "output_type": "stream",
     "text": [
      "[array([[5.0534716],\n",
      "       [0.7216977]], dtype=float32), array([-2.1359003], dtype=float32)]\n",
      "[ 5.0534716  0.7216977 -2.1359003]\n"
     ]
    },
    {
     "data": {
      "image/png": "[encoded data removed]",
      "text/plain": [
       "<Figure size 432x288 with 1 Axes>"
      ]
     },
     "metadata": {
      "needs_background": "light"
     },
     "output_type": "display_data"
    }
   ],
   "source": [
    "weights=model_a.layers[0].get_weights() \n",
    "print(weights)\n",
    "thre_parms=np.array(weights[0])#This first item is the weights for the inputs \n",
    "thre_parms=np.append(thre_parms, weights[1]) #second item the weights for the bias\n",
    "print(thre_parms)\n",
    "plot_fun_thr(features,labels,thre_parms,classes)"
   ]
  },
  {
   "cell_type": "code",
   "execution_count": 6,
   "metadata": {
    "colab": {
     "base_uri": "https://localhost:8080/",
     "height": 350
    },
    "executionInfo": {
     "elapsed": 378,
     "status": "ok",
     "timestamp": 1634658710172,
     "user": {
      "displayName": "Murtadha Hssayeni",
      "photoUrl": "https://lh3.googleusercontent.com/a-/AOh14Gjl8zOn-q4_CorFCcIx1B1NDGl5E0qOcTENwoIy=s64",
      "userId": "16797547346214113523"
     },
     "user_tz": 240
    },
    "id": "pRwCuva1IlG8",
    "outputId": "dbc737fa-79d6-407a-84c9-7bafb0470c91"
   },
   "outputs": [
    {
     "data": {
      "image/png": "[encoded data removed]",
      "text/plain": [
       "<Figure size 648x360 with 2 Axes>"
      ]
     },
     "metadata": {
      "needs_background": "light"
     },
     "output_type": "display_data"
    }
   ],
   "source": [
    "plt.figure(figsize=[9,5])\n",
    "acc_curve=np.array(history.history['accuracy'])\n",
    "loss_curve=np.array(history.history['loss'])\n",
    "plot_curve(acc_curve,loss_curve)"
   ]
  },
  {
   "cell_type": "code",
   "execution_count": 7,
   "metadata": {
    "colab": {
     "base_uri": "https://localhost:8080/"
    },
    "executionInfo": {
     "elapsed": 378,
     "status": "ok",
     "timestamp": 1634658714352,
     "user": {
      "displayName": "Murtadha Hssayeni",
      "photoUrl": "https://lh3.googleusercontent.com/a-/AOh14Gjl8zOn-q4_CorFCcIx1B1NDGl5E0qOcTENwoIy=s64",
      "userId": "16797547346214113523"
     },
     "user_tz": 240
    },
    "id": "go3eCtnSGxXu",
    "outputId": "b0ad3d71-7e1f-489e-ee96-4503af503d16"
   },
   "outputs": [
    {
     "name": "stdout",
     "output_type": "stream",
     "text": [
      "1/1 [==============================] - 0s 203ms/step - loss: 0.0559 - accuracy: 1.0000\n",
      "Total loss on testing set:  0.05587324872612953\n",
      "Accuracy of testing set:  1.0\n",
      "The probability of class 1 for the test samples is: \n",
      " [[0.02713829]\n",
      " [0.99999064]]\n",
      "The classes for the test samples is: \n",
      " [[0]\n",
      " [1]]\n"
     ]
    }
   ],
   "source": [
    "#Evaluating the model on a held-out samples\n",
    "test_samples=np.array([[0,0],[2,2]])\n",
    "test_y=np.array([0,1])\n",
    "score=model_a.evaluate(test_samples,test_y)\n",
    "print('Total loss on testing set: ', score[0])\n",
    "print('Accuracy of testing set: ', score[1])\n",
    "\n",
    "#predicting the class of a new sample\n",
    "test_samples=np.array([[0,-2],[2,5]])\n",
    "test_class1_prob=model_a.predict(test_samples)\n",
    "print('The probability of class 1 for the test samples is: \\n', \n",
    "      test_class1_prob)\n",
    "test_lab=np.uint8(test_class1_prob>0.5)\n",
    "print('The classes for the test samples is: \\n', test_lab)"
   ]
  },
  {
   "cell_type": "markdown",
   "metadata": {
    "id": "TpclZRfwPOVq"
   },
   "source": [
    "# Designing one-class classification problem, two-layer network  with Keras - Example 2\n",
    "\n",
    "In this example, we are using a sigmoid activation at the last layer, binary cross-entropy as the loss, stochastic gradient descent as the optimizer, and classes 0 and 1."
   ]
  },
  {
   "cell_type": "code",
   "execution_count": 8,
   "metadata": {
    "colab": {
     "base_uri": "https://localhost:8080/",
     "height": 1000
    },
    "executionInfo": {
     "elapsed": 5825,
     "status": "ok",
     "timestamp": 1634658737687,
     "user": {
      "displayName": "Murtadha Hssayeni",
      "photoUrl": "https://lh3.googleusercontent.com/a-/AOh14Gjl8zOn-q4_CorFCcIx1B1NDGl5E0qOcTENwoIy=s64",
      "userId": "16797547346214113523"
     },
     "user_tz": 240
    },
    "id": "yxEsSZKSPgCb",
    "outputId": "5310bc32-cc63-4a40-ea45-a81ae3f5fd4f"
   },
   "outputs": [
    {
     "name": "stdout",
     "output_type": "stream",
     "text": [
      "Model: \"sequential_1\"\n",
      "_________________________________________________________________\n",
      "Layer (type)                 Output Shape              Param #   \n",
      "=================================================================\n",
      "dense_1 (Dense)              (None, 3)                 9         \n",
      "_________________________________________________________________\n",
      "dense_2 (Dense)              (None, 1)                 4         \n",
      "=================================================================\n",
      "Total params: 13\n",
      "Trainable params: 13\n",
      "Non-trainable params: 0\n",
      "_________________________________________________________________\n"
     ]
    },
    {
     "name": "stderr",
     "output_type": "stream",
     "text": [
      "c:\\users\\milind.desktop-gbr1bs2\\appdata\\local\\programs\\python\\python38\\lib\\site-packages\\tensorflow\\python\\keras\\optimizer_v2\\optimizer_v2.py:374: UserWarning: The `lr` argument is deprecated, use `learning_rate` instead.\n",
      "  warnings.warn(\n"
     ]
    },
    {
     "data": {
      "image/png": "[encoded data removed]",
      "text/plain": [
       "<Figure size 432x288 with 1 Axes>"
      ]
     },
     "metadata": {
      "needs_background": "light"
     },
     "output_type": "display_data"
    },
    {
     "name": "stdout",
     "output_type": "stream",
     "text": [
      "Epoch 1/200\n",
      "4/4 [==============================] - 0s 2ms/step - loss: 0.7901 - accuracy: 0.5000\n",
      "Epoch 2/200\n",
      "4/4 [==============================] - 0s 3ms/step - loss: 0.6991 - accuracy: 0.6250\n",
      "Epoch 3/200\n",
      "4/4 [==============================] - 0s 3ms/step - loss: 0.6801 - accuracy: 0.6875\n",
      "Epoch 4/200\n",
      "4/4 [==============================] - 0s 3ms/step - loss: 0.6580 - accuracy: 0.7500\n",
      "Epoch 5/200\n",
      "4/4 [==============================] - 0s 3ms/step - loss: 0.6487 - accuracy: 0.7500\n",
      "Epoch 6/200\n",
      "4/4 [==============================] - 0s 2ms/step - loss: 0.6710 - accuracy: 0.6250\n",
      "Epoch 7/200\n",
      "4/4 [==============================] - 0s 3ms/step - loss: 0.6379 - accuracy: 0.7500\n",
      "Epoch 8/200\n",
      "4/4 [==============================] - 0s 3ms/step - loss: 0.6271 - accuracy: 0.6875\n",
      "Epoch 9/200\n",
      "4/4 [==============================] - 0s 2ms/step - loss: 0.6270 - accuracy: 0.7500\n",
      "Epoch 10/200\n",
      "4/4 [==============================] - 0s 3ms/step - loss: 0.6297 - accuracy: 0.7500\n",
      "Epoch 11/200\n",
      "4/4 [==============================] - 0s 3ms/step - loss: 0.5837 - accuracy: 0.7500\n",
      "Epoch 12/200\n",
      "4/4 [==============================] - 0s 3ms/step - loss: 0.6066 - accuracy: 0.6875\n",
      "Epoch 13/200\n",
      "4/4 [==============================] - 0s 3ms/step - loss: 0.5774 - accuracy: 0.7500\n",
      "Epoch 14/200\n",
      "4/4 [==============================] - 0s 3ms/step - loss: 0.5516 - accuracy: 0.8125\n",
      "Epoch 15/200\n",
      "4/4 [==============================] - 0s 2ms/step - loss: 0.5614 - accuracy: 0.8125\n",
      "Epoch 16/200\n",
      "4/4 [==============================] - 0s 4ms/step - loss: 0.5397 - accuracy: 0.8125\n",
      "Epoch 17/200\n",
      "4/4 [==============================] - 0s 3ms/step - loss: 0.5235 - accuracy: 0.8125\n",
      "Epoch 18/200\n",
      "4/4 [==============================] - 0s 2ms/step - loss: 0.5080 - accuracy: 0.8125\n",
      "Epoch 19/200\n",
      "4/4 [==============================] - 0s 3ms/step - loss: 0.4743 - accuracy: 0.8750\n",
      "Epoch 20/200\n",
      "4/4 [==============================] - 0s 3ms/step - loss: 0.4597 - accuracy: 0.8750\n",
      "Epoch 21/200\n",
      "4/4 [==============================] - 0s 3ms/step - loss: 0.4683 - accuracy: 0.8750\n",
      "Epoch 22/200\n",
      "4/4 [==============================] - 0s 3ms/step - loss: 0.4266 - accuracy: 0.8750\n",
      "Epoch 23/200\n",
      "4/4 [==============================] - 0s 3ms/step - loss: 0.3908 - accuracy: 0.8750\n",
      "Epoch 24/200\n",
      "4/4 [==============================] - 0s 3ms/step - loss: 0.3751 - accuracy: 0.9375\n",
      "Epoch 25/200\n",
      "4/4 [==============================] - 0s 3ms/step - loss: 0.3519 - accuracy: 0.9375\n",
      "Epoch 26/200\n",
      "4/4 [==============================] - 0s 2ms/step - loss: 0.3287 - accuracy: 0.9375\n",
      "Epoch 27/200\n",
      "4/4 [==============================] - 0s 3ms/step - loss: 0.3141 - accuracy: 0.9375\n",
      "Epoch 28/200\n",
      "4/4 [==============================] - 0s 3ms/step - loss: 0.3029 - accuracy: 0.9375\n",
      "Epoch 29/200\n",
      "4/4 [==============================] - 0s 3ms/step - loss: 0.2783 - accuracy: 0.9375\n",
      "Epoch 30/200\n",
      "4/4 [==============================] - 0s 3ms/step - loss: 0.2700 - accuracy: 0.9375\n",
      "Epoch 31/200\n",
      "4/4 [==============================] - 0s 3ms/step - loss: 0.2531 - accuracy: 0.9375\n",
      "Epoch 32/200\n",
      "4/4 [==============================] - 0s 3ms/step - loss: 0.2411 - accuracy: 0.9375\n",
      "Epoch 33/200\n",
      "4/4 [==============================] - 0s 3ms/step - loss: 0.2382 - accuracy: 0.9375\n",
      "Epoch 34/200\n",
      "4/4 [==============================] - 0s 3ms/step - loss: 0.2236 - accuracy: 0.9375\n",
      "Epoch 35/200\n",
      "4/4 [==============================] - 0s 3ms/step - loss: 0.2195 - accuracy: 1.0000\n",
      "Epoch 36/200\n",
      "4/4 [==============================] - 0s 3ms/step - loss: 0.2030 - accuracy: 0.9375\n",
      "Epoch 37/200\n",
      "4/4 [==============================] - 0s 3ms/step - loss: 0.2041 - accuracy: 0.9375\n",
      "Epoch 38/200\n",
      "4/4 [==============================] - 0s 2ms/step - loss: 0.1995 - accuracy: 0.9375\n",
      "Epoch 39/200\n",
      "4/4 [==============================] - 0s 2ms/step - loss: 0.1899 - accuracy: 1.0000\n",
      "Epoch 40/200\n",
      "4/4 [==============================] - 0s 3ms/step - loss: 0.1796 - accuracy: 0.9375\n",
      "Epoch 41/200\n",
      "4/4 [==============================] - 0s 4ms/step - loss: 0.1769 - accuracy: 1.0000\n",
      "Epoch 42/200\n",
      "4/4 [==============================] - 0s 4ms/step - loss: 0.1734 - accuracy: 0.9375\n",
      "Epoch 43/200\n",
      "4/4 [==============================] - 0s 3ms/step - loss: 0.1649 - accuracy: 1.0000\n",
      "Epoch 44/200\n",
      "4/4 [==============================] - 0s 3ms/step - loss: 0.1597 - accuracy: 1.0000\n",
      "Epoch 45/200\n",
      "4/4 [==============================] - 0s 3ms/step - loss: 0.1523 - accuracy: 1.0000\n",
      "Epoch 46/200\n",
      "4/4 [==============================] - 0s 3ms/step - loss: 0.1507 - accuracy: 1.0000\n",
      "Epoch 47/200\n",
      "4/4 [==============================] - 0s 3ms/step - loss: 0.1474 - accuracy: 1.0000\n",
      "Epoch 48/200\n",
      "4/4 [==============================] - 0s 3ms/step - loss: 0.1455 - accuracy: 1.0000\n",
      "Epoch 49/200\n",
      "4/4 [==============================] - 0s 3ms/step - loss: 0.1392 - accuracy: 1.0000\n",
      "Epoch 50/200\n",
      "4/4 [==============================] - 0s 3ms/step - loss: 0.1367 - accuracy: 1.0000\n",
      "Epoch 51/200\n",
      "4/4 [==============================] - 0s 3ms/step - loss: 0.1346 - accuracy: 1.0000\n",
      "Epoch 52/200\n",
      "4/4 [==============================] - 0s 2ms/step - loss: 0.1302 - accuracy: 1.0000\n",
      "Epoch 53/200\n",
      "4/4 [==============================] - 0s 2ms/step - loss: 0.1230 - accuracy: 1.0000\n",
      "Epoch 54/200\n",
      "4/4 [==============================] - 0s 2ms/step - loss: 0.1253 - accuracy: 1.0000\n",
      "Epoch 55/200\n",
      "4/4 [==============================] - 0s 2ms/step - loss: 0.1203 - accuracy: 1.0000\n",
      "Epoch 56/200\n",
      "4/4 [==============================] - ETA: 0s - loss: 0.1294 - accuracy: 1.00 - 0s 3ms/step - loss: 0.1167 - accuracy: 1.0000\n",
      "Epoch 57/200\n",
      "4/4 [==============================] - 0s 3ms/step - loss: 0.1180 - accuracy: 1.0000\n",
      "Epoch 58/200\n",
      "4/4 [==============================] - 0s 3ms/step - loss: 0.1131 - accuracy: 1.0000\n",
      "Epoch 59/200\n",
      "4/4 [==============================] - 0s 2ms/step - loss: 0.1102 - accuracy: 1.0000\n",
      "Epoch 60/200\n",
      "4/4 [==============================] - 0s 2ms/step - loss: 0.1093 - accuracy: 1.0000\n",
      "Epoch 61/200\n",
      "4/4 [==============================] - 0s 3ms/step - loss: 0.1057 - accuracy: 1.0000\n",
      "Epoch 62/200\n",
      "4/4 [==============================] - 0s 2ms/step - loss: 0.1038 - accuracy: 1.0000\n",
      "Epoch 63/200\n",
      "4/4 [==============================] - 0s 3ms/step - loss: 0.1005 - accuracy: 1.0000\n",
      "Epoch 64/200\n",
      "4/4 [==============================] - 0s 3ms/step - loss: 0.0991 - accuracy: 1.0000\n",
      "Epoch 65/200\n",
      "4/4 [==============================] - 0s 3ms/step - loss: 0.0939 - accuracy: 1.0000\n",
      "Epoch 66/200\n",
      "4/4 [==============================] - 0s 2ms/step - loss: 0.0938 - accuracy: 1.0000\n",
      "Epoch 67/200\n",
      "4/4 [==============================] - 0s 3ms/step - loss: 0.0939 - accuracy: 1.0000\n",
      "Epoch 68/200\n",
      "4/4 [==============================] - 0s 2ms/step - loss: 0.0888 - accuracy: 1.0000\n",
      "Epoch 69/200\n",
      "4/4 [==============================] - 0s 2ms/step - loss: 0.0900 - accuracy: 1.0000\n",
      "Epoch 70/200\n",
      "4/4 [==============================] - 0s 3ms/step - loss: 0.0852 - accuracy: 1.0000\n",
      "Epoch 71/200\n",
      "4/4 [==============================] - 0s 2ms/step - loss: 0.0837 - accuracy: 1.0000\n",
      "Epoch 72/200\n",
      "4/4 [==============================] - 0s 3ms/step - loss: 0.0856 - accuracy: 1.0000\n",
      "Epoch 73/200\n",
      "4/4 [==============================] - 0s 3ms/step - loss: 0.0840 - accuracy: 1.0000\n",
      "Epoch 74/200\n",
      "4/4 [==============================] - 0s 3ms/step - loss: 0.0821 - accuracy: 1.0000\n",
      "Epoch 75/200\n",
      "4/4 [==============================] - 0s 3ms/step - loss: 0.0805 - accuracy: 1.0000\n",
      "Epoch 76/200\n",
      "4/4 [==============================] - 0s 3ms/step - loss: 0.0788 - accuracy: 1.0000\n",
      "Epoch 77/200\n",
      "4/4 [==============================] - 0s 3ms/step - loss: 0.0755 - accuracy: 1.0000\n",
      "Epoch 78/200\n",
      "4/4 [==============================] - 0s 2ms/step - loss: 0.0742 - accuracy: 1.0000\n",
      "Epoch 79/200\n",
      "4/4 [==============================] - 0s 2ms/step - loss: 0.0749 - accuracy: 1.0000\n",
      "Epoch 80/200\n",
      "4/4 [==============================] - 0s 3ms/step - loss: 0.0720 - accuracy: 1.0000\n",
      "Epoch 81/200\n",
      "4/4 [==============================] - 0s 3ms/step - loss: 0.0724 - accuracy: 1.0000\n",
      "Epoch 82/200\n",
      "4/4 [==============================] - 0s 2ms/step - loss: 0.0710 - accuracy: 1.0000\n",
      "Epoch 83/200\n",
      "4/4 [==============================] - 0s 3ms/step - loss: 0.0686 - accuracy: 1.0000\n",
      "Epoch 84/200\n"
     ]
    },
    {
     "name": "stdout",
     "output_type": "stream",
     "text": [
      "4/4 [==============================] - 0s 3ms/step - loss: 0.0675 - accuracy: 1.0000\n",
      "Epoch 85/200\n",
      "4/4 [==============================] - 0s 3ms/step - loss: 0.0678 - accuracy: 1.0000\n",
      "Epoch 86/200\n",
      "4/4 [==============================] - 0s 3ms/step - loss: 0.0671 - accuracy: 1.0000\n",
      "Epoch 87/200\n",
      "4/4 [==============================] - 0s 2ms/step - loss: 0.0662 - accuracy: 1.0000\n",
      "Epoch 88/200\n",
      "4/4 [==============================] - 0s 2ms/step - loss: 0.0650 - accuracy: 1.0000\n",
      "Epoch 89/200\n",
      "4/4 [==============================] - 0s 2ms/step - loss: 0.0642 - accuracy: 1.0000\n",
      "Epoch 90/200\n",
      "4/4 [==============================] - 0s 2ms/step - loss: 0.0616 - accuracy: 1.0000\n",
      "Epoch 91/200\n",
      "4/4 [==============================] - 0s 3ms/step - loss: 0.0632 - accuracy: 1.0000\n",
      "Epoch 92/200\n",
      "4/4 [==============================] - 0s 3ms/step - loss: 0.0605 - accuracy: 1.0000\n",
      "Epoch 93/200\n",
      "4/4 [==============================] - 0s 3ms/step - loss: 0.0590 - accuracy: 1.0000\n",
      "Epoch 94/200\n",
      "4/4 [==============================] - 0s 2ms/step - loss: 0.0599 - accuracy: 1.0000\n",
      "Epoch 95/200\n",
      "4/4 [==============================] - 0s 3ms/step - loss: 0.0588 - accuracy: 1.0000\n",
      "Epoch 96/200\n",
      "4/4 [==============================] - 0s 2ms/step - loss: 0.0579 - accuracy: 1.0000\n",
      "Epoch 97/200\n",
      "4/4 [==============================] - 0s 3ms/step - loss: 0.0578 - accuracy: 1.0000\n",
      "Epoch 98/200\n",
      "4/4 [==============================] - 0s 2ms/step - loss: 0.0566 - accuracy: 1.0000\n",
      "Epoch 99/200\n",
      "4/4 [==============================] - 0s 3ms/step - loss: 0.0546 - accuracy: 1.0000\n",
      "Epoch 100/200\n",
      "4/4 [==============================] - 0s 3ms/step - loss: 0.0549 - accuracy: 1.0000\n",
      "Epoch 101/200\n",
      "4/4 [==============================] - 0s 3ms/step - loss: 0.0533 - accuracy: 1.0000\n",
      "Epoch 102/200\n",
      "4/4 [==============================] - 0s 3ms/step - loss: 0.0524 - accuracy: 1.0000\n",
      "Epoch 103/200\n",
      "4/4 [==============================] - 0s 3ms/step - loss: 0.0518 - accuracy: 1.0000\n",
      "Epoch 104/200\n",
      "4/4 [==============================] - 0s 3ms/step - loss: 0.0513 - accuracy: 1.0000\n",
      "Epoch 105/200\n",
      "4/4 [==============================] - 0s 3ms/step - loss: 0.0516 - accuracy: 1.0000\n",
      "Epoch 106/200\n",
      "4/4 [==============================] - 0s 3ms/step - loss: 0.0517 - accuracy: 1.0000\n",
      "Epoch 107/200\n",
      "4/4 [==============================] - 0s 4ms/step - loss: 0.0508 - accuracy: 1.0000\n",
      "Epoch 108/200\n",
      "4/4 [==============================] - 0s 3ms/step - loss: 0.0500 - accuracy: 1.0000\n",
      "Epoch 109/200\n",
      "4/4 [==============================] - 0s 3ms/step - loss: 0.0492 - accuracy: 1.0000\n",
      "Epoch 110/200\n",
      "4/4 [==============================] - 0s 2ms/step - loss: 0.0490 - accuracy: 1.0000\n",
      "Epoch 111/200\n",
      "4/4 [==============================] - 0s 3ms/step - loss: 0.0481 - accuracy: 1.0000\n",
      "Epoch 112/200\n",
      "4/4 [==============================] - 0s 3ms/step - loss: 0.0475 - accuracy: 1.0000\n",
      "Epoch 113/200\n",
      "4/4 [==============================] - 0s 3ms/step - loss: 0.0470 - accuracy: 1.0000\n",
      "Epoch 114/200\n",
      "4/4 [==============================] - 0s 3ms/step - loss: 0.0455 - accuracy: 1.0000\n",
      "Epoch 115/200\n",
      "4/4 [==============================] - 0s 3ms/step - loss: 0.0458 - accuracy: 1.0000\n",
      "Epoch 116/200\n",
      "4/4 [==============================] - 0s 3ms/step - loss: 0.0455 - accuracy: 1.0000\n",
      "Epoch 117/200\n",
      "4/4 [==============================] - 0s 3ms/step - loss: 0.0449 - accuracy: 1.0000\n",
      "Epoch 118/200\n",
      "4/4 [==============================] - 0s 2ms/step - loss: 0.0446 - accuracy: 1.0000\n",
      "Epoch 119/200\n",
      "4/4 [==============================] - 0s 2ms/step - loss: 0.0441 - accuracy: 1.0000\n",
      "Epoch 120/200\n",
      "4/4 [==============================] - 0s 2ms/step - loss: 0.0440 - accuracy: 1.0000\n",
      "Epoch 121/200\n",
      "4/4 [==============================] - 0s 3ms/step - loss: 0.0433 - accuracy: 1.0000\n",
      "Epoch 122/200\n",
      "4/4 [==============================] - 0s 3ms/step - loss: 0.0419 - accuracy: 1.0000\n",
      "Epoch 123/200\n",
      "4/4 [==============================] - 0s 2ms/step - loss: 0.0423 - accuracy: 1.0000\n",
      "Epoch 124/200\n",
      "4/4 [==============================] - 0s 3ms/step - loss: 0.0416 - accuracy: 1.0000\n",
      "Epoch 125/200\n",
      "4/4 [==============================] - 0s 3ms/step - loss: 0.0406 - accuracy: 1.0000\n",
      "Epoch 126/200\n",
      "4/4 [==============================] - 0s 3ms/step - loss: 0.0409 - accuracy: 1.0000\n",
      "Epoch 127/200\n",
      "4/4 [==============================] - 0s 3ms/step - loss: 0.0398 - accuracy: 1.0000\n",
      "Epoch 128/200\n",
      "4/4 [==============================] - 0s 3ms/step - loss: 0.0395 - accuracy: 1.0000\n",
      "Epoch 129/200\n",
      "4/4 [==============================] - 0s 3ms/step - loss: 0.0397 - accuracy: 1.0000\n",
      "Epoch 130/200\n",
      "4/4 [==============================] - 0s 3ms/step - loss: 0.0388 - accuracy: 1.0000\n",
      "Epoch 131/200\n",
      "4/4 [==============================] - 0s 2ms/step - loss: 0.0390 - accuracy: 1.0000\n",
      "Epoch 132/200\n",
      "4/4 [==============================] - 0s 2ms/step - loss: 0.0387 - accuracy: 1.0000\n",
      "Epoch 133/200\n",
      "4/4 [==============================] - 0s 2ms/step - loss: 0.0377 - accuracy: 1.0000\n",
      "Epoch 134/200\n",
      "4/4 [==============================] - 0s 2ms/step - loss: 0.0372 - accuracy: 1.0000\n",
      "Epoch 135/200\n",
      "4/4 [==============================] - ETA: 0s - loss: 0.0523 - accuracy: 1.00 - 0s 2ms/step - loss: 0.0375 - accuracy: 1.0000\n",
      "Epoch 136/200\n",
      "4/4 [==============================] - 0s 2ms/step - loss: 0.0366 - accuracy: 1.0000\n",
      "Epoch 137/200\n",
      "4/4 [==============================] - 0s 2ms/step - loss: 0.0364 - accuracy: 1.0000\n",
      "Epoch 138/200\n",
      "4/4 [==============================] - 0s 3ms/step - loss: 0.0365 - accuracy: 1.0000\n",
      "Epoch 139/200\n",
      "4/4 [==============================] - 0s 3ms/step - loss: 0.0357 - accuracy: 1.0000\n",
      "Epoch 140/200\n",
      "4/4 [==============================] - 0s 2ms/step - loss: 0.0354 - accuracy: 1.0000\n",
      "Epoch 141/200\n",
      "4/4 [==============================] - 0s 2ms/step - loss: 0.0356 - accuracy: 1.0000\n",
      "Epoch 142/200\n",
      "4/4 [==============================] - 0s 2ms/step - loss: 0.0354 - accuracy: 1.0000\n",
      "Epoch 143/200\n",
      "4/4 [==============================] - 0s 2ms/step - loss: 0.0350 - accuracy: 1.0000\n",
      "Epoch 144/200\n",
      "4/4 [==============================] - 0s 2ms/step - loss: 0.0347 - accuracy: 1.0000\n",
      "Epoch 145/200\n",
      "4/4 [==============================] - 0s 3ms/step - loss: 0.0344 - accuracy: 1.0000\n",
      "Epoch 146/200\n",
      "4/4 [==============================] - 0s 3ms/step - loss: 0.0335 - accuracy: 1.0000\n",
      "Epoch 147/200\n",
      "4/4 [==============================] - 0s 3ms/step - loss: 0.0337 - accuracy: 1.0000\n",
      "Epoch 148/200\n",
      "4/4 [==============================] - 0s 3ms/step - loss: 0.0336 - accuracy: 1.0000\n",
      "Epoch 149/200\n",
      "4/4 [==============================] - 0s 2ms/step - loss: 0.0331 - accuracy: 1.0000\n",
      "Epoch 150/200\n",
      "4/4 [==============================] - 0s 3ms/step - loss: 0.0330 - accuracy: 1.0000\n",
      "Epoch 151/200\n",
      "4/4 [==============================] - 0s 3ms/step - loss: 0.0327 - accuracy: 1.0000\n",
      "Epoch 152/200\n",
      "4/4 [==============================] - 0s 2ms/step - loss: 0.0323 - accuracy: 1.0000\n",
      "Epoch 153/200\n",
      "4/4 [==============================] - 0s 3ms/step - loss: 0.0321 - accuracy: 1.0000\n",
      "Epoch 154/200\n",
      "4/4 [==============================] - 0s 3ms/step - loss: 0.0321 - accuracy: 1.0000\n",
      "Epoch 155/200\n",
      "4/4 [==============================] - 0s 3ms/step - loss: 0.0316 - accuracy: 1.0000\n",
      "Epoch 156/200\n",
      "4/4 [==============================] - 0s 3ms/step - loss: 0.0313 - accuracy: 1.0000\n",
      "Epoch 157/200\n",
      "4/4 [==============================] - 0s 3ms/step - loss: 0.0311 - accuracy: 1.0000\n",
      "Epoch 158/200\n",
      "4/4 [==============================] - 0s 3ms/step - loss: 0.0310 - accuracy: 1.0000\n",
      "Epoch 159/200\n",
      "4/4 [==============================] - 0s 2ms/step - loss: 0.0306 - accuracy: 1.0000\n",
      "Epoch 160/200\n",
      "4/4 [==============================] - 0s 2ms/step - loss: 0.0304 - accuracy: 1.0000\n",
      "Epoch 161/200\n",
      "4/4 [==============================] - 0s 2ms/step - loss: 0.0303 - accuracy: 1.0000\n",
      "Epoch 162/200\n",
      "4/4 [==============================] - 0s 3ms/step - loss: 0.0300 - accuracy: 1.0000\n",
      "Epoch 163/200\n",
      "4/4 [==============================] - 0s 3ms/step - loss: 0.0298 - accuracy: 1.0000\n",
      "Epoch 164/200\n",
      "4/4 [==============================] - 0s 3ms/step - loss: 0.0295 - accuracy: 1.0000\n",
      "Epoch 165/200\n",
      "4/4 [==============================] - 0s 2ms/step - loss: 0.0293 - accuracy: 1.0000\n",
      "Epoch 166/200\n"
     ]
    },
    {
     "name": "stdout",
     "output_type": "stream",
     "text": [
      "4/4 [==============================] - 0s 3ms/step - loss: 0.0289 - accuracy: 1.0000\n",
      "Epoch 167/200\n",
      "4/4 [==============================] - 0s 2ms/step - loss: 0.0285 - accuracy: 1.0000\n",
      "Epoch 168/200\n",
      "4/4 [==============================] - 0s 2ms/step - loss: 0.0288 - accuracy: 1.0000\n",
      "Epoch 169/200\n",
      "4/4 [==============================] - 0s 3ms/step - loss: 0.0285 - accuracy: 1.0000\n",
      "Epoch 170/200\n",
      "4/4 [==============================] - 0s 3ms/step - loss: 0.0282 - accuracy: 1.0000\n",
      "Epoch 171/200\n",
      "4/4 [==============================] - 0s 3ms/step - loss: 0.0276 - accuracy: 1.0000\n",
      "Epoch 172/200\n",
      "4/4 [==============================] - 0s 2ms/step - loss: 0.0278 - accuracy: 1.0000\n",
      "Epoch 173/200\n",
      "4/4 [==============================] - 0s 2ms/step - loss: 0.0276 - accuracy: 1.0000\n",
      "Epoch 174/200\n",
      "4/4 [==============================] - 0s 3ms/step - loss: 0.0275 - accuracy: 1.0000\n",
      "Epoch 175/200\n",
      "4/4 [==============================] - 0s 3ms/step - loss: 0.0269 - accuracy: 1.0000\n",
      "Epoch 176/200\n",
      "4/4 [==============================] - 0s 2ms/step - loss: 0.0270 - accuracy: 1.0000\n",
      "Epoch 177/200\n",
      "4/4 [==============================] - 0s 2ms/step - loss: 0.0269 - accuracy: 1.0000\n",
      "Epoch 178/200\n",
      "4/4 [==============================] - 0s 3ms/step - loss: 0.0264 - accuracy: 1.0000\n",
      "Epoch 179/200\n",
      "4/4 [==============================] - 0s 3ms/step - loss: 0.0265 - accuracy: 1.0000\n",
      "Epoch 180/200\n",
      "4/4 [==============================] - 0s 2ms/step - loss: 0.0264 - accuracy: 1.0000\n",
      "Epoch 181/200\n",
      "4/4 [==============================] - 0s 2ms/step - loss: 0.0261 - accuracy: 1.0000\n",
      "Epoch 182/200\n",
      "4/4 [==============================] - 0s 3ms/step - loss: 0.0259 - accuracy: 1.0000\n",
      "Epoch 183/200\n",
      "4/4 [==============================] - 0s 3ms/step - loss: 0.0259 - accuracy: 1.0000\n",
      "Epoch 184/200\n",
      "4/4 [==============================] - 0s 2ms/step - loss: 0.0256 - accuracy: 1.0000\n",
      "Epoch 185/200\n",
      "4/4 [==============================] - 0s 4ms/step - loss: 0.0256 - accuracy: 1.0000\n",
      "Epoch 186/200\n",
      "4/4 [==============================] - 0s 3ms/step - loss: 0.0253 - accuracy: 1.0000\n",
      "Epoch 187/200\n",
      "4/4 [==============================] - 0s 3ms/step - loss: 0.0252 - accuracy: 1.0000\n",
      "Epoch 188/200\n",
      "4/4 [==============================] - 0s 3ms/step - loss: 0.0249 - accuracy: 1.0000\n",
      "Epoch 189/200\n",
      "4/4 [==============================] - 0s 2ms/step - loss: 0.0248 - accuracy: 1.0000\n",
      "Epoch 190/200\n",
      "4/4 [==============================] - 0s 3ms/step - loss: 0.0247 - accuracy: 1.0000\n",
      "Epoch 191/200\n",
      "4/4 [==============================] - 0s 3ms/step - loss: 0.0245 - accuracy: 1.0000\n",
      "Epoch 192/200\n",
      "4/4 [==============================] - 0s 3ms/step - loss: 0.0244 - accuracy: 1.0000\n",
      "Epoch 193/200\n",
      "4/4 [==============================] - 0s 2ms/step - loss: 0.0244 - accuracy: 1.0000\n",
      "Epoch 194/200\n",
      "4/4 [==============================] - 0s 3ms/step - loss: 0.0238 - accuracy: 1.0000\n",
      "Epoch 195/200\n",
      "4/4 [==============================] - 0s 2ms/step - loss: 0.0239 - accuracy: 1.0000\n",
      "Epoch 196/200\n",
      "4/4 [==============================] - 0s 2ms/step - loss: 0.0235 - accuracy: 1.0000\n",
      "Epoch 197/200\n",
      "4/4 [==============================] - 0s 3ms/step - loss: 0.0236 - accuracy: 1.0000\n",
      "Epoch 198/200\n",
      "4/4 [==============================] - 0s 3ms/step - loss: 0.0235 - accuracy: 1.0000\n",
      "Epoch 199/200\n",
      "4/4 [==============================] - 0s 3ms/step - loss: 0.0233 - accuracy: 1.0000\n",
      "Epoch 200/200\n",
      "4/4 [==============================] - 0s 2ms/step - loss: 0.0232 - accuracy: 1.0000\n"
     ]
    }
   ],
   "source": [
    "from tensorflow.keras.models import Sequential\n",
    "from tensorflow.keras.layers import Dense\n",
    "from tensorflow.keras.optimizers import SGD\n",
    "#defining the model\n",
    "model_a=Sequential()\n",
    "model_a.add(Dense(input_dim=2, units=3, activation='tanh'))\n",
    "model_a.add(Dense(units=1, activation='sigmoid'))\n",
    "model_a.summary()\n",
    "\n",
    "#compiling the model\n",
    "model_a.compile(loss='binary_crossentropy',\n",
    "              optimizer=SGD(lr=0.5), \n",
    "              metrics=['accuracy'])\n",
    "\n",
    "#Loading the data and normalization\n",
    "features=np.array([[1,1], [1,-1], [0,-1], [0.5,3], [0.7,2], \n",
    "                   [-1,3], [-1,1], [3,-1],[1,5],[3.5,2.5],[3,3],[1.5,2.5],[1,3],\n",
    "                   [2,1],[0.1,2],[1.2,2.2]])\n",
    "labels=np.array([1,0,0,1,1,0,0,0, 0,0,0,1,1,1,1,1], dtype=np.uint8)\n",
    "classes=[0,1]\n",
    "\n",
    "features = (features-np.mean(features,axis=0))/np.std(features,axis=0) #normalization\n",
    "plot_fun(features,labels,classes)\n",
    "\n",
    "history=model_a.fit(features, labels,\n",
    "          batch_size=4,\n",
    "          epochs=200,\n",
    "          verbose=1) \n",
    "\n",
    "#          validation_data=(x_val, y_val)"
   ]
  },
  {
   "cell_type": "code",
   "execution_count": 10,
   "metadata": {
    "colab": {
     "base_uri": "https://localhost:8080/",
     "height": 334
    },
    "executionInfo": {
     "elapsed": 460,
     "status": "ok",
     "timestamp": 1634658739968,
     "user": {
      "displayName": "Murtadha Hssayeni",
      "photoUrl": "https://lh3.googleusercontent.com/a-/AOh14Gjl8zOn-q4_CorFCcIx1B1NDGl5E0qOcTENwoIy=s64",
      "userId": "16797547346214113523"
     },
     "user_tz": 240
    },
    "id": "Jl3nvylqRT5j",
    "outputId": "159b91dc-4e8c-49b6-b035-2daba51a6f45"
   },
   "outputs": [
    {
     "name": "stdout",
     "output_type": "stream",
     "text": [
      "[array([[0.4295625, 3.0829272, 2.1792889],\n",
      "       [3.0254202, 1.1417822, 2.4292245]], dtype=float32), array([ 2.475105 ,  2.882313 , -2.9839365], dtype=float32)]\n"
     ]
    },
    {
     "data": {
      "image/png": "[encoded data removed]",
      "text/plain": [
       "<Figure size 360x360 with 1 Axes>"
      ]
     },
     "metadata": {
      "needs_background": "light"
     },
     "output_type": "display_data"
    }
   ],
   "source": [
    "weights=model_a.layers[0].get_weights() \n",
    "print(weights)\n",
    "plt.figure(figsize=[5,5])\n",
    "for node_i in range(weights[0].shape[1]):\n",
    "  thre_parms=np.array(weights[0][:,node_i])#This first item is the weights for the inputs \n",
    "  thre_parms=np.append(thre_parms, weights[1][node_i]) #second item the weights for the bias\n",
    "  plot_fun_thr(features,labels,thre_parms,classes)\n",
    "plt.show()"
   ]
  },
  {
   "cell_type": "code",
   "execution_count": null,
   "metadata": {
    "colab": {
     "base_uri": "https://localhost:8080/",
     "height": 295
    },
    "executionInfo": {
     "elapsed": 244,
     "status": "ok",
     "timestamp": 1634658747370,
     "user": {
      "displayName": "Murtadha Hssayeni",
      "photoUrl": "https://lh3.googleusercontent.com/a-/AOh14Gjl8zOn-q4_CorFCcIx1B1NDGl5E0qOcTENwoIy=s64",
      "userId": "16797547346214113523"
     },
     "user_tz": 240
    },
    "id": "sz61pNRe3BZj",
    "outputId": "79d1b537-22e1-4874-f6ef-429d8bb83ba1"
   },
   "outputs": [
    {
     "data": {
      "image/png": "[encoded data removed]",
      "text/plain": [
       "<Figure size 432x288 with 2 Axes>"
      ]
     },
     "metadata": {
      "needs_background": "light"
     },
     "output_type": "display_data"
    }
   ],
   "source": [
    "acc_curve=np.array(history.history['accuracy'])\n",
    "loss_curve=np.array(history.history['loss'])\n",
    "plot_curve(acc_curve,loss_curve)"
   ]
  }
 ],
 "metadata": {
  "colab": {
   "collapsed_sections": [],
   "name": "Neural_Network_Learning_with_Python_Part_2_Keras.ipynb",
   "provenance": []
  },
  "kernelspec": {
   "display_name": "Python 3",
   "language": "python",
   "name": "python3"
  },
  "language_info": {
   "codemirror_mode": {
    "name": "ipython",
    "version": 3
   },
   "file_extension": ".py",
   "mimetype": "text/x-python",
   "name": "python",
   "nbconvert_exporter": "python",
   "pygments_lexer": "ipython3",
   "version": "3.8.6"
  }
 },
 "nbformat": 4,
 "nbformat_minor": 1
}
